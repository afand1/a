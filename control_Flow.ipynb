{
 "cells": [
  {
   "cell_type": "raw",
   "id": "a01b4772-8d4a-4108-a7ed-143cd96c634b",
   "metadata": {},
   "source": [
    "#Basic If-Else Statements:"
   ]
  },
  {
   "cell_type": "code",
   "execution_count": 30,
   "id": "965db19e-111c-4985-86c8-9f10bc11f654",
   "metadata": {},
   "outputs": [
    {
     "name": "stdin",
     "output_type": "stream",
     "text": [
      "Enter a number:  -1\n"
     ]
    },
    {
     "name": "stdout",
     "output_type": "stream",
     "text": [
      "The number is negative.\n"
     ]
    }
   ],
   "source": [
    "#1. Write a Python program to check if a given number is positive or negative.\n",
    "\n",
    "def check_positive_negative(number):\n",
    "    if number > 0:\n",
    "        print(\"The number is positive.\")\n",
    "    elif number < 0:\n",
    "        print(\"The number is negative.\")\n",
    "    else:\n",
    "        print(\"The number is zero.\")\n",
    "\n",
    "# Test the function\n",
    "num = float(input(\"Enter a number: \"))\n",
    "check_positive_negative(num)\n"
   ]
  },
  {
   "cell_type": "code",
   "execution_count": 33,
   "id": "7909ddea-3634-49f8-b3ec-5fe828cade8c",
   "metadata": {},
   "outputs": [
    {
     "name": "stdin",
     "output_type": "stream",
     "text": [
      "Enter your age:  16\n"
     ]
    },
    {
     "name": "stdout",
     "output_type": "stream",
     "text": [
      "You are not eligible to vote yet.\n"
     ]
    }
   ],
   "source": [
    "#2.Create a program that determines if a person is eligible to vote based on their age.\n",
    "\n",
    "def check_voter_eligibility(age):\n",
    "    if age >= 18:\n",
    "        print(\"You are eligible to vote.\")\n",
    "    else:\n",
    "        print(\"You are not eligible to vote yet.\")\n",
    "\n",
    "# Test the function\n",
    "age = int(input(\"Enter your age: \"))\n",
    "check_voter_eligibility(age)\n"
   ]
  },
  {
   "cell_type": "code",
   "execution_count": 34,
   "id": "0fcb8f89-475a-4077-8cc8-a954dba97cf5",
   "metadata": {},
   "outputs": [
    {
     "name": "stdin",
     "output_type": "stream",
     "text": [
      "Enter the first number:  5\n",
      "Enter the second number:  125\n"
     ]
    },
    {
     "name": "stdout",
     "output_type": "stream",
     "text": [
      "The maximum of the two numbers is: 125.0\n"
     ]
    }
   ],
   "source": [
    "#3. Develop a program to find the maximum of two numbers using if-else statements.\n",
    "\n",
    "def find_maximum(num1, num2):\n",
    "    if num1 > num2:\n",
    "        return num1\n",
    "    else:\n",
    "        return num2\n",
    "\n",
    "# Test the function\n",
    "num1 = float(input(\"Enter the first number: \"))\n",
    "num2 = float(input(\"Enter the second number: \"))\n",
    "maximum = find_maximum(num1, num2)\n",
    "print(\"The maximum of the two numbers is:\", maximum)\n"
   ]
  },
  {
   "cell_type": "code",
   "execution_count": 35,
   "id": "cd8d5836-2c92-47a8-ae4b-9f7170010e05",
   "metadata": {},
   "outputs": [
    {
     "name": "stdin",
     "output_type": "stream",
     "text": [
      "Enter a year:  20\n"
     ]
    },
    {
     "name": "stdout",
     "output_type": "stream",
     "text": [
      "20 is a leap year.\n"
     ]
    }
   ],
   "source": [
    "#4. Write a Python script to classify a given year as a leap year or not.\n",
    "\n",
    "def is_leap_year(year):\n",
    "    if (year % 4 == 0 and year % 100 != 0) or (year % 400 == 0):\n",
    "        return True\n",
    "    else:\n",
    "        return False\n",
    "\n",
    "# Test the function\n",
    "year = int(input(\"Enter a year: \"))\n",
    "if is_leap_year(year):\n",
    "    print(year, \"is a leap year.\")\n",
    "else:\n",
    "    print(year, \"is not a leap year.\")\n"
   ]
  },
  {
   "cell_type": "code",
   "execution_count": 36,
   "id": "64c12159-d0b3-4556-a7bd-973196058b05",
   "metadata": {},
   "outputs": [
    {
     "name": "stdin",
     "output_type": "stream",
     "text": [
      "Enter a character:  afa\n"
     ]
    },
    {
     "name": "stdout",
     "output_type": "stream",
     "text": [
      "Please enter only one character.\n"
     ]
    }
   ],
   "source": [
    "#5. Create a program that checks whether a character is a vowel or a consonant.\n",
    "def check_vowel_consonant(char):\n",
    "    vowels = \"aeiouAEIOU\"\n",
    "\n",
    "    if char.isalpha():\n",
    "        if char in vowels:\n",
    "            print(\"The character\", char, \"is a vowel.\")\n",
    "        else:\n",
    "            print(\"The character\", char, \"is a consonant.\")\n",
    "    else:\n",
    "        print(\"Please enter an alphabetic character.\")\n",
    "\n",
    "# Test the function\n",
    "character = input(\"Enter a character: \")\n",
    "if len(character) == 1:\n",
    "    check_vowel_consonant(character)\n",
    "else:\n",
    "    print(\"Please enter only one character.\")\n"
   ]
  },
  {
   "cell_type": "code",
   "execution_count": 37,
   "id": "309555b2-dc4a-4874-9e81-4e2f6c03eb8e",
   "metadata": {},
   "outputs": [
    {
     "name": "stdin",
     "output_type": "stream",
     "text": [
      "Enter a number:  22\n"
     ]
    },
    {
     "name": "stdout",
     "output_type": "stream",
     "text": [
      "The number 22 is even.\n"
     ]
    }
   ],
   "source": [
    "#6. Implement a program to determine whether a given number is even or odd.\n",
    "def check_even_odd(number):\n",
    "    if number % 2 == 0:\n",
    "        print(\"The number\", number, \"is even.\")\n",
    "    else:\n",
    "        print(\"The number\", number, \"is odd.\")\n",
    "\n",
    "# Test the function\n",
    "num = int(input(\"Enter a number: \"))\n",
    "check_even_odd(num)\n"
   ]
  },
  {
   "cell_type": "code",
   "execution_count": 38,
   "id": "b57e1567-7d50-40b0-90b0-7965732d3861",
   "metadata": {},
   "outputs": [
    {
     "name": "stdin",
     "output_type": "stream",
     "text": [
      "Enter a number:  23\n"
     ]
    },
    {
     "name": "stdout",
     "output_type": "stream",
     "text": [
      "The absolute value of 23.0 is: 23.0\n"
     ]
    }
   ],
   "source": [
    "#7. Write a Python function to calculate the absolute value of a number without using the `abs()` function.\n",
    "def absolute_value(num):\n",
    "    if num < 0:\n",
    "        return -num\n",
    "    else:\n",
    "        return num\n",
    "\n",
    "# Test the function\n",
    "number = float(input(\"Enter a number: \"))\n",
    "print(\"The absolute value of\", number, \"is:\", absolute_value(number))\n"
   ]
  },
  {
   "cell_type": "code",
   "execution_count": 39,
   "id": "f8ccaec8-5fe6-493e-a8ef-3aae2e9ff04e",
   "metadata": {},
   "outputs": [
    {
     "name": "stdin",
     "output_type": "stream",
     "text": [
      "Enter the first number:  6\n",
      "Enter the second number:  3\n",
      "Enter the third number:  9\n"
     ]
    },
    {
     "name": "stdout",
     "output_type": "stream",
     "text": [
      "The largest of the three numbers is: 9.0\n"
     ]
    }
   ],
   "source": [
    "#8. Develop a program that determines the largest of three given numbers using if-else statements.\n",
    "def find_largest(num1, num2, num3):\n",
    "    if num1 >= num2 and num1 >= num3:\n",
    "        return num1\n",
    "    elif num2 >= num1 and num2 >= num3:\n",
    "        return num2\n",
    "    else:\n",
    "        return num3\n",
    "\n",
    "# Test the function\n",
    "num1 = float(input(\"Enter the first number: \"))\n",
    "num2 = float(input(\"Enter the second number: \"))\n",
    "num3 = float(input(\"Enter the third number: \"))\n",
    "largest = find_largest(num1, num2, num3)\n",
    "print(\"The largest of the three numbers is:\", largest)\n"
   ]
  },
  {
   "cell_type": "code",
   "execution_count": 41,
   "id": "bbe45924-cbe1-4a52-b14d-446b085b880f",
   "metadata": {},
   "outputs": [
    {
     "name": "stdin",
     "output_type": "stream",
     "text": [
      "Enter a string:  121\n"
     ]
    },
    {
     "name": "stdout",
     "output_type": "stream",
     "text": [
      "The string is a palindrome.\n"
     ]
    }
   ],
   "source": [
    "#9. Create a program that checks if a given string is a palindrome.\n",
    "def is_palindrome(s):\n",
    "    # Remove spaces and convert to lowercase\n",
    "    s = s.replace(\" \", \"\").lower()\n",
    "    \n",
    "    # Check if the string is equal to its reverse\n",
    "    return s == s[::-1]\n",
    "\n",
    "# Test the function\n",
    "string = input(\"Enter a string: \")\n",
    "if is_palindrome(string):\n",
    "    print(\"The string is a palindrome.\")\n",
    "else:\n",
    "    print(\"The string is not a palindrome.\")\n"
   ]
  },
  {
   "cell_type": "code",
   "execution_count": 42,
   "id": "aac40071-f794-47a5-802e-85232cff98ac",
   "metadata": {},
   "outputs": [
    {
     "name": "stdin",
     "output_type": "stream",
     "text": [
      "Enter the student's score:  90\n"
     ]
    },
    {
     "name": "stdout",
     "output_type": "stream",
     "text": [
      "The student's grade is: A\n"
     ]
    }
   ],
   "source": [
    "#10. Write a Python program to calculate the grade based on a student's score.\n",
    "def calculate_grade(score):\n",
    "    if score >= 90:\n",
    "        return 'A'\n",
    "    elif score >= 80:\n",
    "        return 'B'\n",
    "    elif score >= 70:\n",
    "        return 'C'\n",
    "    elif score >= 60:\n",
    "        return 'D'\n",
    "    else:\n",
    "        return 'F'\n",
    "\n",
    "# Test the function\n",
    "score = float(input(\"Enter the student's score: \"))\n",
    "grade = calculate_grade(score)\n",
    "print(\"The student's grade is:\", grade)\n"
   ]
  },
  {
   "cell_type": "raw",
   "id": "5d6254fe-5519-4e22-be46-52f7f26f0eae",
   "metadata": {},
   "source": [
    "Nested If-Else Statements:"
   ]
  },
  {
   "cell_type": "code",
   "execution_count": 43,
   "id": "9290ad7b-0423-4f33-a235-918e33192213",
   "metadata": {},
   "outputs": [
    {
     "name": "stdin",
     "output_type": "stream",
     "text": [
      "Enter the first number:  23\n",
      "Enter the second number:  23\n",
      "Enter the third number:  56\n"
     ]
    },
    {
     "name": "stdout",
     "output_type": "stream",
     "text": [
      "The largest of the three numbers is: 56.0\n"
     ]
    }
   ],
   "source": [
    "#11. Write a program to find the largest among three numbers using nested if-else statements.\n",
    "def find_largest(num1, num2, num3):\n",
    "    if num1 >= num2:\n",
    "        if num1 >= num3:\n",
    "            return num1\n",
    "        else:\n",
    "            return num3\n",
    "    else:\n",
    "        if num2 >= num3:\n",
    "            return num2\n",
    "        else:\n",
    "            return num3\n",
    "\n",
    "# Test the function\n",
    "num1 = float(input(\"Enter the first number: \"))\n",
    "num2 = float(input(\"Enter the second number: \"))\n",
    "num3 = float(input(\"Enter the third number: \"))\n",
    "largest = find_largest(num1, num2, num3)\n",
    "print(\"The largest of the three numbers is:\", largest)\n"
   ]
  },
  {
   "cell_type": "code",
   "execution_count": 44,
   "id": "8975984c-7ecc-45e2-9bf5-ec2aa58dfd8a",
   "metadata": {},
   "outputs": [
    {
     "name": "stdin",
     "output_type": "stream",
     "text": [
      "Enter the length of the first side:  20\n",
      "Enter the length of the second side:  26\n",
      "Enter the length of the third side:  30\n"
     ]
    },
    {
     "name": "stdout",
     "output_type": "stream",
     "text": [
      "The triangle is: Scalene\n"
     ]
    }
   ],
   "source": [
    "#12. Implement a program to determine if a triangle is equilateral, isosceles, or scalene.\n",
    "\n",
    "def triangle_type(side1, side2, side3):\n",
    "    if side1 == side2 == side3:\n",
    "        return \"Equilateral\"\n",
    "    elif side1 == side2 or side1 == side3 or side2 == side3:\n",
    "        return \"Isosceles\"\n",
    "    else:\n",
    "        return \"Scalene\"\n",
    "\n",
    "# Test the function\n",
    "side1 = float(input(\"Enter the length of the first side: \"))\n",
    "side2 = float(input(\"Enter the length of the second side: \"))\n",
    "side3 = float(input(\"Enter the length of the third side: \"))\n",
    "\n",
    "triangle = triangle_type(side1, side2, side3)\n",
    "print(\"The triangle is:\", triangle)\n"
   ]
  },
  {
   "cell_type": "code",
   "execution_count": 45,
   "id": "0135d9c1-d27e-4430-98b2-5e12b71610d3",
   "metadata": {},
   "outputs": [
    {
     "name": "stdin",
     "output_type": "stream",
     "text": [
      "Enter a year:  2030\n"
     ]
    },
    {
     "name": "stdout",
     "output_type": "stream",
     "text": [
      "2030 is not a leap year.\n",
      "2030 is not a century year.\n"
     ]
    }
   ],
   "source": [
    "#13. Develop a program that checks if a year is a leap year and also if it is a century year.\n",
    "def is_leap_year(year):\n",
    "    if (year % 4 == 0 and year % 100 != 0) or (year % 400 == 0):\n",
    "        return True\n",
    "    else:\n",
    "        return False\n",
    "\n",
    "def is_century_year(year):\n",
    "    if year % 100 == 0:\n",
    "        return True\n",
    "    else:\n",
    "        return False\n",
    "\n",
    "# Test the functions\n",
    "year = int(input(\"Enter a year: \"))\n",
    "\n",
    "if is_leap_year(year):\n",
    "    print(year, \"is a leap year.\")\n",
    "else:\n",
    "    print(year, \"is not a leap year.\")\n",
    "\n",
    "if is_century_year(year):\n",
    "    print(year, \"is a century year.\")\n",
    "else:\n",
    "    print(year, \"is not a century year.\")\n"
   ]
  },
  {
   "cell_type": "code",
   "execution_count": 46,
   "id": "670586b6-3400-47fd-8c1c-6afd50615341",
   "metadata": {},
   "outputs": [
    {
     "name": "stdin",
     "output_type": "stream",
     "text": [
      "Enter a number:  0\n"
     ]
    },
    {
     "name": "stdout",
     "output_type": "stream",
     "text": [
      "The number is Zero\n"
     ]
    }
   ],
   "source": [
    "#14. Write a Python script to determine if a number is positive, negative, or zero.\n",
    "def check_number(number):\n",
    "    if number > 0:\n",
    "        return \"Positive\"\n",
    "    elif number < 0:\n",
    "        return \"Negative\"\n",
    "    else:\n",
    "        return \"Zero\"\n",
    "\n",
    "# Test the function\n",
    "num = float(input(\"Enter a number: \"))\n",
    "result = check_number(num)\n",
    "print(\"The number is\", result)\n"
   ]
  },
  {
   "cell_type": "code",
   "execution_count": 47,
   "id": "24193f6e-c819-4f9a-a27e-64089e005a66",
   "metadata": {},
   "outputs": [
    {
     "name": "stdin",
     "output_type": "stream",
     "text": [
      "Enter your age:  118\n"
     ]
    },
    {
     "name": "stdout",
     "output_type": "stream",
     "text": [
      "You are not a teenager.\n"
     ]
    }
   ],
   "source": [
    "#15. Create a program to check if a person is a teenager (between 13 and 19 years old).\n",
    "def is_teenager(age):\n",
    "    if age >= 13 and age <= 19:\n",
    "        return True\n",
    "    else:\n",
    "        return False\n",
    "\n",
    "# Test the function\n",
    "age = int(input(\"Enter your age: \"))\n",
    "if is_teenager(age):\n",
    "    print(\"You are a teenager.\")\n",
    "else:\n",
    "    print(\"You are not a teenager.\")\n"
   ]
  },
  {
   "cell_type": "code",
   "execution_count": 48,
   "id": "96e7e28c-e902-4d2a-b382-318bd629639d",
   "metadata": {},
   "outputs": [
    {
     "name": "stdin",
     "output_type": "stream",
     "text": [
      "Enter the measure of the angle in degrees:  50\n"
     ]
    },
    {
     "name": "stdout",
     "output_type": "stream",
     "text": [
      "The angle is Acute\n"
     ]
    }
   ],
   "source": [
    "#16. Develop a program that determines the type of angle based on its measure (acute, obtuse, or right).\n",
    "def angle_type(angle):\n",
    "    if angle < 90:\n",
    "        return \"Acute\"\n",
    "    elif angle == 90:\n",
    "        return \"Right\"\n",
    "    else:\n",
    "        return \"Obtuse\"\n",
    "\n",
    "# Test the function\n",
    "angle = float(input(\"Enter the measure of the angle in degrees: \"))\n",
    "angle_category = angle_type(angle)\n",
    "print(\"The angle is\", angle_category)\n"
   ]
  },
  {
   "cell_type": "code",
   "execution_count": 49,
   "id": "767fa410-823b-46aa-b48c-f0a8e30d9d55",
   "metadata": {},
   "outputs": [
    {
     "name": "stdin",
     "output_type": "stream",
     "text": [
      "Enter the coefficient of x^2 (a):  2\n",
      "Enter the coefficient of x (b):  5\n",
      "Enter the constant term (c):  6\n"
     ]
    },
    {
     "name": "stdout",
     "output_type": "stream",
     "text": [
      "The roots are complex:\n",
      "Root 1: (-1.25+1.1989578808281798j)\n",
      "Root 2: (-1.25-1.1989578808281798j)\n"
     ]
    }
   ],
   "source": [
    "#17. Write a Python program to calculate the roots of a quadratic equation.\n",
    "\n",
    "import math\n",
    "\n",
    "def quadratic_roots(a, b, c):\n",
    "    # Calculate discriminant\n",
    "    discriminant = b**2 - 4*a*c\n",
    "\n",
    "    # Check if roots are real\n",
    "    if discriminant >= 0:\n",
    "        # Calculate real roots\n",
    "        root1 = (-b + math.sqrt(discriminant)) / (2*a)\n",
    "        root2 = (-b - math.sqrt(discriminant)) / (2*a)\n",
    "        return root1, root2\n",
    "    else:\n",
    "        # Complex roots\n",
    "        real_part = -b / (2*a)\n",
    "        imaginary_part = math.sqrt(abs(discriminant)) / (2*a)\n",
    "        root1 = complex(real_part, imaginary_part)\n",
    "        root2 = complex(real_part, -imaginary_part)\n",
    "        return root1, root2\n",
    "\n",
    "# Test the function\n",
    "a = float(input(\"Enter the coefficient of x^2 (a): \"))\n",
    "b = float(input(\"Enter the coefficient of x (b): \"))\n",
    "c = float(input(\"Enter the constant term (c): \"))\n",
    "\n",
    "root1, root2 = quadratic_roots(a, b, c)\n",
    "\n",
    "if isinstance(root1, complex):\n",
    "    print(\"The roots are complex:\")\n",
    "    print(\"Root 1:\", root1)\n",
    "    print(\"Root 2:\", root2)\n",
    "else:\n",
    "    print(\"The roots are real:\")\n",
    "    print(\"Root 1:\", root1)\n",
    "    print(\"Root 2:\", root2)\n"
   ]
  },
  {
   "cell_type": "code",
   "execution_count": 50,
   "id": "1f49a73f-a64c-4f0f-8250-3d99c96b0e57",
   "metadata": {},
   "outputs": [
    {
     "name": "stdin",
     "output_type": "stream",
     "text": [
      "Enter a number (1-7) representing the day of the week:  5\n"
     ]
    },
    {
     "name": "stdout",
     "output_type": "stream",
     "text": [
      "The day of the week is: Friday\n"
     ]
    }
   ],
   "source": [
    "#18. Implement a program to determine the day of the week based on a user-provided number (1 for Monday, 2 for Tuesday, etc.).\n",
    "def get_day_of_week(number):\n",
    "    days = [\"Monday\", \"Tuesday\", \"Wednesday\", \"Thursday\", \"Friday\", \"Saturday\", \"Sunday\"]\n",
    "    \n",
    "    if number >= 1 and number <= 7:\n",
    "        return days[number - 1]\n",
    "    else:\n",
    "        return \"Invalid input. Please enter a number between 1 and 7.\"\n",
    "\n",
    "# Test the function\n",
    "day_number = int(input(\"Enter a number (1-7) representing the day of the week: \"))\n",
    "day_of_week = get_day_of_week(day_number)\n",
    "print(\"The day of the week is:\", day_of_week)\n"
   ]
  },
  {
   "cell_type": "code",
   "execution_count": 51,
   "id": "60f699a0-a9e0-4e8b-b601-c0a29fad2630",
   "metadata": {},
   "outputs": [
    {
     "name": "stdin",
     "output_type": "stream",
     "text": [
      "Enter a year:  2003\n"
     ]
    },
    {
     "name": "stdout",
     "output_type": "stream",
     "text": [
      "2003 is not a leap year.\n",
      "2003 is not evenly divisible by 400.\n"
     ]
    }
   ],
   "source": [
    "#19. Create a program that determines if a year is a leap year and also if it is evenly divisible by 400.\n",
    "def is_leap_year(year):\n",
    "    if (year % 4 == 0 and year % 100 != 0) or (year % 400 == 0):\n",
    "        return True\n",
    "    else:\n",
    "        return False\n",
    "\n",
    "# Test the function\n",
    "year = int(input(\"Enter a year: \"))\n",
    "\n",
    "if is_leap_year(year):\n",
    "    print(year, \"is a leap year.\")\n",
    "else:\n",
    "    print(year, \"is not a leap year.\")\n",
    "\n",
    "if year % 400 == 0:\n",
    "    print(year, \"is evenly divisible by 400.\")\n",
    "else:\n",
    "    print(year, \"is not evenly divisible by 400.\")\n"
   ]
  },
  {
   "cell_type": "code",
   "execution_count": 52,
   "id": "1dc0aa00-af29-4e55-b663-0ec05d316716",
   "metadata": {},
   "outputs": [
    {
     "name": "stdin",
     "output_type": "stream",
     "text": [
      "Enter a number:  7\n"
     ]
    },
    {
     "name": "stdout",
     "output_type": "stream",
     "text": [
      "7 is a prime number.\n"
     ]
    }
   ],
   "source": [
    "#20. Develop a program that checks if a given number is prime or not using nested if-else statements.\n",
    "def is_prime(number):\n",
    "    if number <= 1:\n",
    "        return False\n",
    "    elif number <= 3:\n",
    "        return True\n",
    "    elif number % 2 == 0 or number % 3 == 0:\n",
    "        return False\n",
    "    else:\n",
    "        i = 5\n",
    "        while i * i <= number:\n",
    "            if number % i == 0 or number % (i + 2) == 0:\n",
    "                return False\n",
    "            i += 6\n",
    "        return True\n",
    "\n",
    "# Test the function\n",
    "num = int(input(\"Enter a number: \"))\n",
    "\n",
    "if is_prime(num):\n",
    "    print(num, \"is a prime number.\")\n",
    "else:\n",
    "    print(num, \"is not a prime number.\")\n"
   ]
  },
  {
   "cell_type": "raw",
   "id": "105bdfad-664f-41f9-9602-421f8994c8ed",
   "metadata": {},
   "source": [
    "Elif Statements:"
   ]
  },
  {
   "cell_type": "code",
   "execution_count": 53,
   "id": "70ec04b0-4204-4c65-b09f-cecebbd25c98",
   "metadata": {},
   "outputs": [
    {
     "name": "stdin",
     "output_type": "stream",
     "text": [
      "Enter the student's score:  90\n"
     ]
    },
    {
     "name": "stdout",
     "output_type": "stream",
     "text": [
      "The student's grade is: A\n"
     ]
    }
   ],
   "source": [
    "#21. Write a Python program to assign grades based on different ranges of scores using elif statements.\n",
    "def assign_grade(score):\n",
    "    if score >= 90:\n",
    "        return 'A'\n",
    "    elif score >= 80:\n",
    "        return 'B'\n",
    "    elif score >= 70:\n",
    "        return 'C'\n",
    "    elif score >= 60:\n",
    "        return 'D'\n",
    "    else:\n",
    "        return 'F'\n",
    "\n",
    "# Test the function\n",
    "score = float(input(\"Enter the student's score: \"))\n",
    "grade = assign_grade(score)\n",
    "print(\"The student's grade is:\", grade)\n"
   ]
  },
  {
   "cell_type": "code",
   "execution_count": 54,
   "id": "f700fc41-ec08-4ef4-84a4-4c2849917d9f",
   "metadata": {},
   "outputs": [
    {
     "name": "stdin",
     "output_type": "stream",
     "text": [
      "Enter the first angle of the triangle:  20\n",
      "Enter the second angle of the triangle:  30\n",
      "Enter the third angle of the triangle:  50\n"
     ]
    },
    {
     "name": "stdout",
     "output_type": "stream",
     "text": [
      "The triangle is: Invalid triangle\n"
     ]
    }
   ],
   "source": [
    "#22. Implement a program to determine the type of a triangle based on its angles.\n",
    "\n",
    "def triangle_type(angle1, angle2, angle3):\n",
    "    if angle1 + angle2 + angle3 == 180:\n",
    "        if angle1 < 90 and angle2 < 90 and angle3 < 90:\n",
    "            return \"Acute\"\n",
    "        elif angle1 == 90 or angle2 == 90 or angle3 == 90:\n",
    "            return \"Right\"\n",
    "        else:\n",
    "            return \"Obtuse\"\n",
    "    else:\n",
    "        return \"Invalid triangle\"\n",
    "\n",
    "# Test the function\n",
    "angle1 = float(input(\"Enter the first angle of the triangle: \"))\n",
    "angle2 = float(input(\"Enter the second angle of the triangle: \"))\n",
    "angle3 = float(input(\"Enter the third angle of the triangle: \"))\n",
    "\n",
    "triangle = triangle_type(angle1, angle2, angle3)\n",
    "print(\"The triangle is:\", triangle)\n"
   ]
  },
  {
   "cell_type": "code",
   "execution_count": 55,
   "id": "411f11e2-289b-4d8b-aa02-34b09c7540b8",
   "metadata": {},
   "outputs": [
    {
     "name": "stdin",
     "output_type": "stream",
     "text": [
      "Enter your weight in kilograms:  20\n",
      "Enter your height in meters:  155\n"
     ]
    },
    {
     "name": "stdout",
     "output_type": "stream",
     "text": [
      "Your BMI is: 0.0008324661810613944\n",
      "You are Underweight\n"
     ]
    }
   ],
   "source": [
    "#23. Develop a program to categorize a given person's BMI into underweight, normal, overweight, or obese using elif statements.\n",
    "\n",
    "def categorize_bmi(bmi):\n",
    "    if bmi < 18.5:\n",
    "        return \"Underweight\"\n",
    "    elif 18.5 <= bmi < 25:\n",
    "        return \"Normal\"\n",
    "    elif 25 <= bmi < 30:\n",
    "        return \"Overweight\"\n",
    "    else:\n",
    "        return \"Obese\"\n",
    "\n",
    "# Test the function\n",
    "weight = float(input(\"Enter your weight in kilograms: \"))\n",
    "height = float(input(\"Enter your height in meters: \"))\n",
    "\n",
    "bmi = weight / (height ** 2)\n",
    "category = categorize_bmi(bmi)\n",
    "print(\"Your BMI is:\", bmi)\n",
    "print(\"You are\", category)\n"
   ]
  },
  {
   "cell_type": "code",
   "execution_count": 56,
   "id": "b3d8c4ac-0547-4916-b5c9-b8f2c1e0a400",
   "metadata": {},
   "outputs": [
    {
     "name": "stdin",
     "output_type": "stream",
     "text": [
      "Enter a number:  0\n"
     ]
    },
    {
     "name": "stdout",
     "output_type": "stream",
     "text": [
      "The number is Zero\n"
     ]
    }
   ],
   "source": [
    "#24. Create a program that determines whether a given number is positive, negative, or zero using elif statements.\n",
    "\n",
    "def check_number(number):\n",
    "    if number > 0:\n",
    "        return \"Positive\"\n",
    "    elif number < 0:\n",
    "        return \"Negative\"\n",
    "    else:\n",
    "        return \"Zero\"\n",
    "\n",
    "# Test the function\n",
    "num = float(input(\"Enter a number: \"))\n",
    "result = check_number(num)\n",
    "print(\"The number is\", result)\n"
   ]
  },
  {
   "cell_type": "code",
   "execution_count": 57,
   "id": "9b761abb-6416-4209-8d7e-2cb71f3d5fae",
   "metadata": {},
   "outputs": [
    {
     "name": "stdin",
     "output_type": "stream",
     "text": [
      "Enter a character:  afan\n"
     ]
    },
    {
     "name": "stdout",
     "output_type": "stream",
     "text": [
      "The character is: Lowercase\n"
     ]
    }
   ],
   "source": [
    "#25. Write a Python script to determine the type of a character (uppercase, lowercase, or special) using elif statements.\n",
    "def character_type(char):\n",
    "    if char.isupper():\n",
    "        return \"Uppercase\"\n",
    "    elif char.islower():\n",
    "        return \"Lowercase\"\n",
    "    elif not char.isalpha() and not char.isdigit():\n",
    "        return \"Special Character\"\n",
    "    else:\n",
    "        return \"Unknown\"\n",
    "\n",
    "# Test the function\n",
    "character = input(\"Enter a character: \")\n",
    "character_class = character_type(character)\n",
    "print(\"The character is:\", character_class)\n"
   ]
  },
  {
   "cell_type": "code",
   "execution_count": 58,
   "id": "51120545-7123-4161-ac6b-ec25c8c685f0",
   "metadata": {},
   "outputs": [
    {
     "name": "stdin",
     "output_type": "stream",
     "text": [
      "Enter the purchase amount:  200\n"
     ]
    },
    {
     "name": "stdout",
     "output_type": "stream",
     "text": [
      "Discounted price: $ 190.0\n"
     ]
    }
   ],
   "source": [
    "#26. Implement a program to calculate the discounted price based on different purchase amounts using elif statements.\n",
    "def calculate_discounted_price(amount):\n",
    "    if amount < 100:\n",
    "        discount = 0\n",
    "    elif amount < 500:\n",
    "        discount = 0.05  # 5% discount for purchases between 100 and 499\n",
    "    elif amount < 1000:\n",
    "        discount = 0.1   # 10% discount for purchases between 500 and 999\n",
    "    else:\n",
    "        discount = 0.15  # 15% discount for purchases of 1000 or more\n",
    "    \n",
    "    discounted_price = amount * (1 - discount)\n",
    "    return discounted_price\n",
    "\n",
    "# Test the function\n",
    "purchase_amount = float(input(\"Enter the purchase amount: \"))\n",
    "discounted_price = calculate_discounted_price(purchase_amount)\n",
    "print(\"Discounted price: $\", discounted_price)\n"
   ]
  },
  {
   "cell_type": "code",
   "execution_count": 60,
   "id": "e5141dd8-266b-4d8f-a279-7a5a245fd654",
   "metadata": {},
   "outputs": [
    {
     "name": "stdin",
     "output_type": "stream",
     "text": [
      "Enter the number of units consumed:  280\n"
     ]
    },
    {
     "name": "stdout",
     "output_type": "stream",
     "text": [
      "Electricity bill: $ 265.0\n"
     ]
    }
   ],
   "source": [
    "#27. Develop a program to calculate the electricity bill based on different consumption slabs using elif statements.\n",
    "def calculate_electricity_bill(units):\n",
    "    if units <= 50:\n",
    "        bill = units * 0.50\n",
    "    elif units <= 150:\n",
    "        bill = 25 + (units - 50) * 0.75\n",
    "    elif units <= 250:\n",
    "        bill = 100 + (units - 150) * 1.20\n",
    "    else:\n",
    "        bill = 220 + (units - 250) * 1.50\n",
    "    \n",
    "    return bill\n",
    "\n",
    "# Test the function\n",
    "units_consumed = float(input(\"Enter the number of units consumed: \"))\n",
    "bill_amount = calculate_electricity_bill(units_consumed)\n",
    "print(\"Electricity bill: $\", bill_amount)\n"
   ]
  },
  {
   "cell_type": "code",
   "execution_count": 62,
   "id": "ada91a99-b4d0-476d-9974-aee72faac080",
   "metadata": {},
   "outputs": [
    {
     "name": "stdin",
     "output_type": "stream",
     "text": [
      "Enter the first angle:  60\n",
      "Enter the second angle:  30\n",
      "Enter the third angle:  90\n",
      "Enter the fourth angle:  3\n",
      "Enter the length of the first side:  250\n",
      "Enter the length of the second side:  350\n",
      "Enter the length of the third side:  350\n",
      "Enter the length of the fourth side:  520\n"
     ]
    },
    {
     "name": "stdout",
     "output_type": "stream",
     "text": [
      "The quadrilateral is: Quadrilateral\n"
     ]
    }
   ],
   "source": [
    "#28. Create a program to determine the type of quadrilateral based on its angles and sides using elif statements.\n",
    "def quadrilateral_type(angle1, angle2, angle3, angle4, side1, side2, side3, side4):\n",
    "    if angle1 == angle2 == angle3 == angle4 == 90:\n",
    "        if side1 == side2 == side3 == side4:\n",
    "            return \"Square\"\n",
    "        elif side1 == side3 and side2 == side4:\n",
    "            return \"Rectangle\"\n",
    "        else:\n",
    "            return \"Quadrilateral\"\n",
    "    elif angle1 == angle2 == angle3 == angle4:\n",
    "        return \"Rhombus\"\n",
    "    elif side1 == side2 == side3 == side4:\n",
    "        if angle1 == angle2 == angle3 == angle4:\n",
    "            return \"Square\"\n",
    "        elif angle1 == angle3 and angle2 == angle4:\n",
    "            return \"Rectangle\"\n",
    "        else:\n",
    "            return \"Parallelogram\"\n",
    "    else:\n",
    "        return \"Quadrilateral\"\n",
    "\n",
    "# Test the function\n",
    "angle1 = float(input(\"Enter the first angle: \"))\n",
    "angle2 = float(input(\"Enter the second angle: \"))\n",
    "angle3 = float(input(\"Enter the third angle: \"))\n",
    "angle4 = float(input(\"Enter the fourth angle: \"))\n",
    "side1 = float(input(\"Enter the length of the first side: \"))\n",
    "side2 = float(input(\"Enter the length of the second side: \"))\n",
    "side3 = float(input(\"Enter the length of the third side: \"))\n",
    "side4 = float(input(\"Enter the length of the fourth side: \"))\n",
    "\n",
    "quad_type = quadrilateral_type(angle1, angle2, angle3, angle4, side1, side2, side3, side4)\n",
    "print(\"The quadrilateral is:\", quad_type)\n"
   ]
  },
  {
   "cell_type": "code",
   "execution_count": 63,
   "id": "98b6df88-1a30-4659-8bc4-2b361d90541b",
   "metadata": {},
   "outputs": [
    {
     "name": "stdin",
     "output_type": "stream",
     "text": [
      "Enter the month (as a number between 1 and 12):  5\n"
     ]
    },
    {
     "name": "stdout",
     "output_type": "stream",
     "text": [
      "The season for month 5 is: Spring\n"
     ]
    }
   ],
   "source": [
    "#29. Write a Python script to determine the season based on a user-provided month using elif statements.\n",
    "def determine_season(month):\n",
    "    if month in (3, 4, 5):\n",
    "        season = 'Spring'\n",
    "    elif month in (6, 7, 8):\n",
    "        season = 'Summer'\n",
    "    elif month in (9, 10, 11):\n",
    "        season = 'Autumn'\n",
    "    else:\n",
    "        season = 'Winter'\n",
    "    return season\n",
    "\n",
    "# Test the function\n",
    "month = int(input(\"Enter the month (as a number between 1 and 12): \"))\n",
    "if 1 <= month <= 12:\n",
    "    season = determine_season(month)\n",
    "    print(\"The season for month\", month, \"is:\", season)\n",
    "else:\n",
    "    print(\"Invalid input. Please enter a number between 1 and 12.\")\n"
   ]
  },
  {
   "cell_type": "code",
   "execution_count": 64,
   "id": "a1ab77e9-fe56-4e90-b8ea-7670c6932fd2",
   "metadata": {},
   "outputs": [
    {
     "name": "stdin",
     "output_type": "stream",
     "text": [
      "Enter the year:  2\n",
      "Enter the month (as a number between 1 and 12):  3\n"
     ]
    },
    {
     "name": "stdout",
     "output_type": "stream",
     "text": [
      "The month has 31 days.\n",
      "2 is a common year.\n"
     ]
    }
   ],
   "source": [
    "#30. Implement a program to determine the type of a year (leap or common) and month (30 or 31 days) using elif statements.\n",
    "def is_leap_year(year):\n",
    "    if (year % 4 == 0 and year % 100 != 0) or (year % 400 == 0):\n",
    "        return True\n",
    "    else:\n",
    "        return False\n",
    "\n",
    "def days_in_month(month, year):\n",
    "    if month in {1, 3, 5, 7, 8, 10, 12}:\n",
    "        return 31\n",
    "    elif month in {4, 6, 9, 11}:\n",
    "        return 30\n",
    "    elif month == 2:\n",
    "        if is_leap_year(year):\n",
    "            return 29\n",
    "        else:\n",
    "            return 28\n",
    "    else:\n",
    "        return None\n",
    "\n",
    "# Test the functions\n",
    "year = int(input(\"Enter the year: \"))\n",
    "month = int(input(\"Enter the month (as a number between 1 and 12): \"))\n",
    "\n",
    "if days := days_in_month(month, year):\n",
    "    print(\"The month has\", days, \"days.\")\n",
    "    if is_leap_year(year):\n",
    "        print(year, \"is a leap year.\")\n",
    "    else:\n",
    "        print(year, \"is a common year.\")\n",
    "else:\n",
    "    print(\"Invalid input. Please enter a number between 1 and 12 for the month.\")\n"
   ]
  },
  {
   "cell_type": "raw",
   "id": "2b0ddef0-4787-4257-be24-34f4f807765c",
   "metadata": {},
   "source": [
    "Basic Level:"
   ]
  },
  {
   "cell_type": "code",
   "execution_count": 2,
   "id": "b1fb759c-16c8-4eda-a889-9db868b47820",
   "metadata": {},
   "outputs": [
    {
     "name": "stdout",
     "output_type": "stream",
     "text": [
      "5 is positive.\n",
      "-3 is negative.\n",
      "The number is zero.\n"
     ]
    }
   ],
   "source": [
    "#1. Write a Python program that checks if a given number is positive, negative, or zero.\n",
    "def check_number(num):\n",
    "    if num > 0:\n",
    "        print(f\"{num} is positive.\")\n",
    "    elif num < 0:\n",
    "        print(f\"{num} is negative.\")\n",
    "    else:\n",
    "        print(\"The number is zero.\")\n",
    "\n",
    "# Test the function with different numbers\n",
    "check_number(5)  # Output: 5 is positive.\n",
    "check_number(-3)  # Output: -3 is negative.\n",
    "check_number(0)  # Output: The number is zero.\n",
    "\n"
   ]
  },
  {
   "cell_type": "code",
   "execution_count": 28,
   "id": "5559ed31-71e7-4bcb-a1c9-9a97c28493f2",
   "metadata": {},
   "outputs": [
    {
     "name": "stdout",
     "output_type": "stream",
     "text": [
      "You are eligible to vote.\n",
      "You are not eligible to vote yet.\n"
     ]
    }
   ],
   "source": [
    "#2. Create a program to determine if a person is eligible to vote based on their age.\n",
    "def check_eligibility(age):\n",
    "    if age >= 18:\n",
    "        print(\"You are eligible to vote.\")\n",
    "    else:\n",
    "        print(\"You are not eligible to vote yet.\")\n",
    "\n",
    "# Test the function with different ages\n",
    "check_eligibility(20)  # Output: You are eligible to vote.\n",
    "check_eligibility(16)  # Output: You are not eligible to vote yet.\n"
   ]
  },
  {
   "cell_type": "code",
   "execution_count": 29,
   "id": "acb4b301-e5c2-45f7-bb0a-1b9ec5bc6b71",
   "metadata": {},
   "outputs": [
    {
     "name": "stdout",
     "output_type": "stream",
     "text": [
      "Maximum of 10 and 20 is: 20\n",
      "Maximum of 5 and 3 is: 5\n"
     ]
    }
   ],
   "source": [
    "#3. Write a program to find the maximum of two given numbers using conditional statements.\n",
    "def find_maximum(a, b):\n",
    "    if a > b:\n",
    "        return a\n",
    "    else:\n",
    "        return b\n",
    "\n",
    "# Test the function with different inputs\n",
    "num1 = 10\n",
    "num2 = 20\n",
    "print(\"Maximum of\", num1, \"and\", num2, \"is:\", find_maximum(num1, num2))  # Output: Maximum of 10 and 20 is: 20\n",
    "\n",
    "num3 = 5\n",
    "num4 = 3\n",
    "print(\"Maximum of\", num3, \"and\", num4, \"is:\", find_maximum(num3, num4))  # Output: Maximum of 5 and 3 is: 5\n",
    "\n"
   ]
  },
  {
   "cell_type": "code",
   "execution_count": 30,
   "id": "15aa4a73-f7b5-46c8-8dcc-7144b760f474",
   "metadata": {},
   "outputs": [
    {
     "name": "stdout",
     "output_type": "stream",
     "text": [
      "Score: 95 Grade: A\n",
      "Score: 85 Grade: B\n",
      "Score: 75 Grade: C\n",
      "Score: 65 Grade: D\n",
      "Score: 55 Grade: F\n"
     ]
    }
   ],
   "source": [
    "#4. Develop a program that calculates the grade of a student based on their exam score.\n",
    "def calculate_grade(score):\n",
    "    if score >= 90:\n",
    "        return 'A'\n",
    "    elif score >= 80:\n",
    "        return 'B'\n",
    "    elif score >= 70:\n",
    "        return 'C'\n",
    "    elif score >= 60:\n",
    "        return 'D'\n",
    "    else:\n",
    "        return 'F'\n",
    "\n",
    "# Test the function with different exam scores\n",
    "exam_scores = [95, 85, 75, 65, 55]\n",
    "for score in exam_scores:\n",
    "    print(\"Score:\", score, \"Grade:\", calculate_grade(score))\n"
   ]
  },
  {
   "cell_type": "code",
   "execution_count": 31,
   "id": "62367900-7ec5-4b1d-8b21-90472b77b55e",
   "metadata": {},
   "outputs": [
    {
     "name": "stdout",
     "output_type": "stream",
     "text": [
      "2000 is a leap year.\n",
      "2004 is a leap year.\n",
      "1900 is not a leap year.\n",
      "2020 is a leap year.\n",
      "2021 is not a leap year.\n"
     ]
    }
   ],
   "source": [
    "#5. Create a program that checks if a year is a leap year or not.\n",
    "def is_leap_year(year):\n",
    "    # A year is a leap year if it is divisible by 4\n",
    "    # But if the year is divisible by 100, it is not a leap year\n",
    "    # Unless it is also divisible by 400\n",
    "    if (year % 4 == 0 and year % 100 != 0) or (year % 400 == 0):\n",
    "        return True\n",
    "    else:\n",
    "        return False\n",
    "\n",
    "# Test the function with different years\n",
    "years = [2000, 2004, 1900, 2020, 2021]\n",
    "for year in years:\n",
    "    if is_leap_year(year):\n",
    "        print(year, \"is a leap year.\")\n",
    "    else:\n",
    "        print(year, \"is not a leap year.\")\n"
   ]
  },
  {
   "cell_type": "code",
   "execution_count": 32,
   "id": "3fb4af10-b943-4f4a-b45f-49ec58442ce6",
   "metadata": {},
   "outputs": [
    {
     "name": "stdout",
     "output_type": "stream",
     "text": [
      "A triangle with sides (3, 3, 3) is a Equilateral triangle.\n",
      "A triangle with sides (3, 4, 4) is a Isosceles triangle.\n",
      "A triangle with sides (3, 4, 5) is a Scalene triangle.\n"
     ]
    }
   ],
   "source": [
    "#6. Write a program to classify a triangle based on its sides' lengths.\n",
    "def classify_triangle(side1, side2, side3):\n",
    "    if side1 == side2 == side3:\n",
    "        return \"Equilateral triangle\"\n",
    "    elif side1 == side2 or side1 == side3 or side2 == side3:\n",
    "        return \"Isosceles triangle\"\n",
    "    else:\n",
    "        return \"Scalene triangle\"\n",
    "\n",
    "# Test the function with different sets of side lengths\n",
    "side_lengths = [(3, 3, 3), (3, 4, 4), (3, 4, 5)]\n",
    "for sides in side_lengths:\n",
    "    result = classify_triangle(*sides)\n",
    "    print(f\"A triangle with sides {sides} is a {result}.\")\n"
   ]
  },
  {
   "cell_type": "code",
   "execution_count": 33,
   "id": "10a3725f-1eb5-4279-a021-b8ffa3a22ae3",
   "metadata": {},
   "outputs": [
    {
     "name": "stdout",
     "output_type": "stream",
     "text": [
      "The largest number in (10, 20, 30) is: 30\n",
      "The largest number in (100, 50, 75) is: 100\n",
      "The largest number in (5, 5, 5) is: 5\n"
     ]
    }
   ],
   "source": [
    "#7. Build a program that determines the largest of three given numbers.\n",
    "def find_largest(num1, num2, num3):\n",
    "    largest = num1\n",
    "\n",
    "    if num2 > largest:\n",
    "        largest = num2\n",
    "\n",
    "    if num3 > largest:\n",
    "        largest = num3\n",
    "\n",
    "    return largest\n",
    "\n",
    "# Test the function with different sets of numbers\n",
    "num_sets = [(10, 20, 30), (100, 50, 75), (5, 5, 5)]\n",
    "for nums in num_sets:\n",
    "    result = find_largest(*nums)\n",
    "    print(f\"The largest number in {nums} is: {result}\")\n",
    "\n",
    "\n"
   ]
  },
  {
   "cell_type": "code",
   "execution_count": 34,
   "id": "233cdf0c-5eb8-44ff-ba27-12e3b290231b",
   "metadata": {},
   "outputs": [
    {
     "name": "stdout",
     "output_type": "stream",
     "text": [
      "a is a vowel.\n",
      "b is a consonant.\n",
      "C is a consonant.\n",
      "5 is not a letter.\n",
      "@ is not a letter.\n"
     ]
    }
   ],
   "source": [
    "#8. Develop a program that checks whether a character is a vowel or a consonant.\n",
    "def check_vowel_consonant(char):\n",
    "    vowels = ['a', 'e', 'i', 'o', 'u']\n",
    "\n",
    "    if char.lower() in vowels:\n",
    "        return f\"{char} is a vowel.\"\n",
    "    elif char.isalpha():\n",
    "        return f\"{char} is a consonant.\"\n",
    "    else:\n",
    "        return f\"{char} is not a letter.\"\n",
    "\n",
    "# Test the function with different characters\n",
    "characters = ['a', 'b', 'C', '5', '@']\n",
    "for char in characters:\n",
    "    result = check_vowel_consonant(char)\n",
    "    print(result)"
   ]
  },
  {
   "cell_type": "code",
   "execution_count": 35,
   "id": "1e8d7a2f-0c7d-40da-abe5-761431e89822",
   "metadata": {},
   "outputs": [
    {
     "name": "stdout",
     "output_type": "stream",
     "text": [
      "Total cost after discounts: 165.0\n"
     ]
    }
   ],
   "source": [
    "#9. Create a program to calculate the total cost of a shopping cart based on discounts.\n",
    "def calculate_total_cost(prices, discounts):\n",
    "    total_cost = sum(prices)\n",
    "    discount_amount = 0\n",
    "\n",
    "    for discount in discounts:\n",
    "        if discount['type'] == 'percentage':\n",
    "            discount_amount += total_cost * (discount['value'] / 100)\n",
    "        elif discount['type'] == 'fixed':\n",
    "            discount_amount += discount['value']\n",
    "\n",
    "    total_cost -= discount_amount\n",
    "    return total_cost\n",
    "\n",
    "# Test the function\n",
    "item_prices = [100, 50, 30, 20]\n",
    "item_discounts = [\n",
    "    {'type': 'percentage', 'value': 10},  # 10% off\n",
    "    {'type': 'fixed', 'value': 15},       # $15 off\n",
    "]\n",
    "\n",
    "total_cost = calculate_total_cost(item_prices, item_discounts)\n",
    "print(\"Total cost after discounts:\", total_cost)\n"
   ]
  },
  {
   "cell_type": "code",
   "execution_count": 36,
   "id": "e37fe997-f4ad-4f9b-8739-4b8af49745f7",
   "metadata": {},
   "outputs": [
    {
     "name": "stdin",
     "output_type": "stream",
     "text": [
      "Enter a number:  2\n"
     ]
    },
    {
     "name": "stdout",
     "output_type": "stream",
     "text": [
      "The number is: Even\n"
     ]
    }
   ],
   "source": [
    "#10. Write a program that checks if a given number is even or odd.\n",
    "def check_even_odd(number):\n",
    "    if number % 2 == 0:\n",
    "        return \"Even\"\n",
    "    else:\n",
    "        return \"Odd\"\n",
    "\n",
    "# Test the function\n",
    "num = int(input(\"Enter a number: \"))\n",
    "result = check_even_odd(num)\n",
    "print(\"The number is:\", result)\n"
   ]
  },
  {
   "cell_type": "raw",
   "id": "5a4517d4-c477-4d10-acf1-9612c87d8c86",
   "metadata": {},
   "source": [
    "Intermediate Level:"
   ]
  },
  {
   "cell_type": "code",
   "execution_count": 38,
   "id": "22c05d59-8b72-49a1-8c8b-6a13f1d5ea5c",
   "metadata": {},
   "outputs": [
    {
     "name": "stdin",
     "output_type": "stream",
     "text": [
      "Enter the value of coefficient a:  2\n",
      "Enter the value of coefficient b:  3\n",
      "Enter the value of coefficient c:  2\n"
     ]
    },
    {
     "name": "stdout",
     "output_type": "stream",
     "text": [
      "Root 1: (-0.75-0.6614378277661477j)\n",
      "Root 2: (-0.75+0.6614378277661477j)\n"
     ]
    }
   ],
   "source": [
    "#11. Program to Calculate the Roots of a Quadratic Equation:\n",
    "\n",
    "import cmath\n",
    "\n",
    "def quadratic_roots(a, b, c):\n",
    "    # Calculate the discriminant\n",
    "    discriminant = (b**2) - (4*a*c)\n",
    "\n",
    "    # Find two solutions\n",
    "    root1 = (-b - cmath.sqrt(discriminant)) / (2*a)\n",
    "    root2 = (-b + cmath.sqrt(discriminant)) / (2*a)\n",
    "\n",
    "    return root1, root2\n",
    "\n",
    "# Test the function\n",
    "a = float(input(\"Enter the value of coefficient a: \"))\n",
    "b = float(input(\"Enter the value of coefficient b: \"))\n",
    "c = float(input(\"Enter the value of coefficient c: \"))\n",
    "\n",
    "root1, root2 = quadratic_roots(a, b, c)\n",
    "\n",
    "print(\"Root 1:\", root1)\n",
    "print(\"Root 2:\", root2)\n"
   ]
  },
  {
   "cell_type": "code",
   "execution_count": 39,
   "id": "9825f809-75b5-45a4-a309-3d818bc50474",
   "metadata": {},
   "outputs": [
    {
     "name": "stdin",
     "output_type": "stream",
     "text": [
      "Enter the day number (1-7):  6\n"
     ]
    },
    {
     "name": "stdout",
     "output_type": "stream",
     "text": [
      "Day of the week: Saturday\n"
     ]
    }
   ],
   "source": [
    "#12. Program to Determine the Day of the Week:\n",
    "def day_of_week(day_number):\n",
    "    days = [\"Monday\", \"Tuesday\", \"Wednesday\", \"Thursday\", \"Friday\", \"Saturday\", \"Sunday\"]\n",
    "    if 1 <= day_number <= 7:\n",
    "        return days[day_number - 1]\n",
    "    else:\n",
    "        return \"Invalid day number. Please enter a number between 1 and 7.\"\n",
    "\n",
    "# Test the function\n",
    "day_num = int(input(\"Enter the day number (1-7): \"))\n",
    "print(\"Day of the week:\", day_of_week(day_num))\n"
   ]
  },
  {
   "cell_type": "code",
   "execution_count": 40,
   "id": "75fa31b9-0975-4578-9f97-4aed45b00963",
   "metadata": {},
   "outputs": [
    {
     "name": "stdin",
     "output_type": "stream",
     "text": [
      "Enter a number to calculate its factorial:  5\n"
     ]
    },
    {
     "name": "stdout",
     "output_type": "stream",
     "text": [
      "Factorial of 5 is 120\n"
     ]
    }
   ],
   "source": [
    "#13. Develop a program that calculates the factorial of a given number using recursion.\n",
    "def factorial(n):\n",
    "    if n == 0:\n",
    "        return 1\n",
    "    else:\n",
    "        return n * factorial(n-1)\n",
    "\n",
    "# Test the function\n",
    "num = int(input(\"Enter a number to calculate its factorial: \"))\n",
    "print(\"Factorial of\", num, \"is\", factorial(num))\n"
   ]
  },
  {
   "cell_type": "code",
   "execution_count": 41,
   "id": "65929e4d-19a6-44d9-9848-1e44573a8fe3",
   "metadata": {},
   "outputs": [
    {
     "name": "stdin",
     "output_type": "stream",
     "text": [
      "Enter the first number:  6\n",
      "Enter the second number:  9\n",
      "Enter the third number:  5\n"
     ]
    },
    {
     "name": "stdout",
     "output_type": "stream",
     "text": [
      "Largest number is: 9.0\n"
     ]
    }
   ],
   "source": [
    "#14. Write a program to find the largest among three numbers without using the `max()` function.\n",
    "def find_largest(num1, num2, num3):\n",
    "    if num1 >= num2 and num1 >= num3:\n",
    "        return num1\n",
    "    elif num2 >= num1 and num2 >= num3:\n",
    "        return num2\n",
    "    else:\n",
    "        return num3\n",
    "\n",
    "# Test the function\n",
    "num1 = float(input(\"Enter the first number: \"))\n",
    "num2 = float(input(\"Enter the second number: \"))\n",
    "num3 = float(input(\"Enter the third number: \"))\n",
    "\n",
    "print(\"Largest number is:\", find_largest(num1, num2, num3))\n"
   ]
  },
  {
   "cell_type": "code",
   "execution_count": 42,
   "id": "17d0c96b-32ca-4c6a-b4cc-0f27404c154b",
   "metadata": {},
   "outputs": [
    {
     "name": "stdout",
     "output_type": "stream",
     "text": [
      "\n",
      "=== ATM Transaction Menu ===\n",
      "1. Check Balance\n",
      "2. Deposit\n",
      "3. Withdraw\n",
      "4. Exit\n"
     ]
    },
    {
     "name": "stdin",
     "output_type": "stream",
     "text": [
      "Enter your choice (1/2/3/4):  1\n"
     ]
    },
    {
     "name": "stdout",
     "output_type": "stream",
     "text": [
      "Your current balance is: 1000\n",
      "\n",
      "=== ATM Transaction Menu ===\n",
      "1. Check Balance\n",
      "2. Deposit\n",
      "3. Withdraw\n",
      "4. Exit\n"
     ]
    },
    {
     "name": "stdin",
     "output_type": "stream",
     "text": [
      "Enter your choice (1/2/3/4):  4\n"
     ]
    },
    {
     "name": "stdout",
     "output_type": "stream",
     "text": [
      "Thank you for using the ATM. Goodbye!\n"
     ]
    }
   ],
   "source": [
    "#15. Create a program that simulates a basic ATM transaction menu.\n",
    "def check_balance(balance):\n",
    "    print(\"Your current balance is:\", balance)\n",
    "\n",
    "def deposit(balance, amount):\n",
    "    balance += amount\n",
    "    print(\"Deposit successful. Your new balance is:\", balance)\n",
    "\n",
    "def withdraw(balance, amount):\n",
    "    if amount <= balance:\n",
    "        balance -= amount\n",
    "        print(\"Withdrawal successful. Your new balance is:\", balance)\n",
    "    else:\n",
    "        print(\"Insufficient funds. Withdrawal failed.\")\n",
    "\n",
    "def main():\n",
    "    balance = 1000\n",
    "    while True:\n",
    "        print(\"\\n=== ATM Transaction Menu ===\")\n",
    "        print(\"1. Check Balance\")\n",
    "        print(\"2. Deposit\")\n",
    "        print(\"3. Withdraw\")\n",
    "        print(\"4. Exit\")\n",
    "        \n",
    "        choice = input(\"Enter your choice (1/2/3/4): \")\n",
    "\n",
    "        if choice == '1':\n",
    "            check_balance(balance)\n",
    "        elif choice == '2':\n",
    "            amount = float(input(\"Enter the amount to deposit: \"))\n",
    "            deposit(balance, amount)\n",
    "        elif choice == '3':\n",
    "            amount = float(input(\"Enter the amount to withdraw: \"))\n",
    "            withdraw(balance, amount)\n",
    "        elif choice == '4':\n",
    "            print(\"Thank you for using the ATM. Goodbye!\")\n",
    "            break\n",
    "        else:\n",
    "            print(\"Invalid choice. Please try again.\")\n",
    "\n",
    "# Run the main function\n",
    "main()\n"
   ]
  },
  {
   "cell_type": "code",
   "execution_count": 43,
   "id": "cfc7e4ce-52d2-4ffc-b6dd-d4b79c5fd874",
   "metadata": {},
   "outputs": [
    {
     "name": "stdin",
     "output_type": "stream",
     "text": [
      "Enter a word to check if it's a palindrome:  6\n"
     ]
    },
    {
     "name": "stdout",
     "output_type": "stream",
     "text": [
      "Yes, it's a palindrome.\n"
     ]
    }
   ],
   "source": [
    "#16. Build a program that checks if a given string is a palindrome or not.\n",
    "def is_palindrome(s):\n",
    "    s = s.lower()\n",
    "    return s == s[::-1]\n",
    "\n",
    "# Test the function\n",
    "word = input(\"Enter a word to check if it's a palindrome: \")\n",
    "if is_palindrome(word):\n",
    "    print(\"Yes, it's a palindrome.\")\n",
    "else:\n",
    "    print(\"No, it's not a palindrome.\")\n"
   ]
  },
  {
   "cell_type": "code",
   "execution_count": 44,
   "id": "34d64a91-0213-4654-877c-4c64596fbfda",
   "metadata": {},
   "outputs": [
    {
     "name": "stdout",
     "output_type": "stream",
     "text": [
      "Average excluding smallest and largest values: 30.0\n"
     ]
    }
   ],
   "source": [
    "#17. Write a program that calculates the average of a list of numbers, excluding the smallest and largest values.\n",
    "def calculate_average(numbers):\n",
    "    if len(numbers) < 3:\n",
    "        return \"List must have at least 3 elements.\"\n",
    "\n",
    "    sorted_numbers = sorted(numbers)\n",
    "    sum_without_extremes = sum(sorted_numbers[1:-1])\n",
    "    average = sum_without_extremes / (len(numbers) - 2)\n",
    "    return average\n",
    "\n",
    "# Test the function\n",
    "numbers = [10, 20, 30, 40, 50]\n",
    "average = calculate_average(numbers)\n",
    "print(\"Average excluding smallest and largest values:\", average)\n"
   ]
  },
  {
   "cell_type": "code",
   "execution_count": 45,
   "id": "f54c1781-8e6c-4e1a-9297-90f19e886ed2",
   "metadata": {},
   "outputs": [
    {
     "name": "stdin",
     "output_type": "stream",
     "text": [
      "Enter temperature in Celsius:  3\n"
     ]
    },
    {
     "name": "stdout",
     "output_type": "stream",
     "text": [
      "Temperature in Fahrenheit: 37.4\n"
     ]
    }
   ],
   "source": [
    "#18. Develop a program that converts a given temperature from Celsius to Fahrenheit.\n",
    "def celsius_to_fahrenheit(celsius):\n",
    "    return (celsius * 9/5) + 32\n",
    "\n",
    "# Test the function\n",
    "celsius = float(input(\"Enter temperature in Celsius: \"))\n",
    "fahrenheit = celsius_to_fahrenheit(celsius)\n",
    "print(\"Temperature in Fahrenheit:\", fahrenheit)\n"
   ]
  },
  {
   "cell_type": "code",
   "execution_count": 46,
   "id": "e35fe741-1aee-4382-8d0e-229b3547dd90",
   "metadata": {},
   "outputs": [
    {
     "name": "stdout",
     "output_type": "stream",
     "text": [
      "Calculator Menu:\n",
      "1. Addition\n",
      "2. Subtraction\n",
      "3. Multiplication\n",
      "4. Division\n"
     ]
    },
    {
     "name": "stdin",
     "output_type": "stream",
     "text": [
      "Enter choice (1/2/3/4):  1\n",
      "Enter first number:  6\n",
      "Enter second number:  5\n"
     ]
    },
    {
     "name": "stdout",
     "output_type": "stream",
     "text": [
      "Result: 11.0\n"
     ]
    }
   ],
   "source": [
    "#19. Create a program that simulates a basic calculator for addition, subtraction, multiplication, and division.\n",
    "def add(x, y):\n",
    "    return x + y\n",
    "\n",
    "def subtract(x, y):\n",
    "    return x - y\n",
    "\n",
    "def multiply(x, y):\n",
    "    return x * y\n",
    "\n",
    "def divide(x, y):\n",
    "    if y == 0:\n",
    "        return \"Cannot divide by zero.\"\n",
    "    return x / y\n",
    "\n",
    "# Main function to perform calculator operations\n",
    "def calculator():\n",
    "    print(\"Calculator Menu:\")\n",
    "    print(\"1. Addition\")\n",
    "    print(\"2. Subtraction\")\n",
    "    print(\"3. Multiplication\")\n",
    "    print(\"4. Division\")\n",
    "    choice = input(\"Enter choice (1/2/3/4): \")\n",
    "    \n",
    "    num1 = float(input(\"Enter first number: \"))\n",
    "    num2 = float(input(\"Enter second number: \"))\n",
    "\n",
    "    if choice == '1':\n",
    "        print(\"Result:\", add(num1, num2))\n",
    "    elif choice == '2':\n",
    "        print(\"Result:\", subtract(num1, num2))\n",
    "    elif choice == '3':\n",
    "        print(\"Result:\", multiply(num1, num2))\n",
    "    elif choice == '4':\n",
    "        print(\"Result:\", divide(num1, num2))\n",
    "    else:\n",
    "        print(\"Invalid choice\")\n",
    "\n",
    "# Run the calculator function\n",
    "calculator()\n"
   ]
  },
  {
   "cell_type": "code",
   "execution_count": 48,
   "id": "7d81bf60-7784-42bd-8654-9a3c430e7f4c",
   "metadata": {},
   "outputs": [
    {
     "name": "stdin",
     "output_type": "stream",
     "text": [
      "Enter the coefficient of x^3:  6\n",
      "Enter the coefficient of x^2:  9\n",
      "Enter the coefficient of x:  8\n",
      "Enter the constant term:  9\n"
     ]
    },
    {
     "name": "stdout",
     "output_type": "stream",
     "text": [
      "Roots of the cubic equation: [(0.20351726815492532+0.8912846468685138j)]\n"
     ]
    }
   ],
   "source": [
    "#20. Write a program that determines the roots of a cubic equation using the Cardano formula.\n",
    "import math\n",
    "\n",
    "def cubic_roots(a, b, c, d):\n",
    "    # Calculate discriminant and its cube root\n",
    "    p = (3 * a * c - b ** 2) / (3 * a ** 2)\n",
    "    q = (2 * b ** 3 - 9 * a * b * c + 27 * a ** 2 * d) / (27 * a ** 3)\n",
    "    discriminant = q ** 2 / 4 + p ** 3 / 27\n",
    "\n",
    "    if discriminant > 0:\n",
    "        # One real root, two complex roots\n",
    "        u = (-q / 2 + discriminant ** 0.5) ** (1 / 3)\n",
    "        v = (-q / 2 - discriminant ** 0.5) ** (1 / 3)\n",
    "        root = u + v - b / (3 * a)\n",
    "        return [root]\n",
    "    elif discriminant == 0:\n",
    "        # All roots real, at least two are equal\n",
    "        root = (-q / 2) ** (1 / 3) - b / (3 * a)\n",
    "        return [root, root]\n",
    "    else:\n",
    "        # Three real roots\n",
    "        theta = math.acos(-q / 2 * (discriminant ** -0.5))\n",
    "        root1 = 2 * (discriminant ** 0.5) * math.cos(theta / 3) - b / (3 * a)\n",
    "        root2 = 2 * (discriminant ** 0.5) * math.cos((theta + 2 * math.pi) / 3) - b / (3 * a)\n",
    "        root3 = 2 * (discriminant ** 0.5) * math.cos((theta - 2 * math.pi) / 3) - b / (3 * a)\n",
    "        return [root1, root2, root3]\n",
    "\n",
    "# Test the function\n",
    "a = float(input(\"Enter the coefficient of x^3: \"))\n",
    "b = float(input(\"Enter the coefficient of x^2: \"))\n",
    "c = float(input(\"Enter the coefficient of x: \"))\n",
    "d = float(input(\"Enter the constant term: \"))\n",
    "\n",
    "roots = cubic_roots(a, b, c, d)\n",
    "print(\"Roots of the cubic equation:\", roots)\n"
   ]
  },
  {
   "cell_type": "raw",
   "id": "5eff8641-d37e-4790-9917-810c7b55dfaa",
   "metadata": {},
   "source": [
    "Advanced Level:"
   ]
  },
  {
   "cell_type": "code",
   "execution_count": 49,
   "id": "1a0403b0-f3b7-4a43-8625-a2ec29c85a1c",
   "metadata": {},
   "outputs": [
    {
     "name": "stdin",
     "output_type": "stream",
     "text": [
      "Enter your income:  66000\n"
     ]
    },
    {
     "name": "stdout",
     "output_type": "stream",
     "text": [
      "Income tax: $ 5600.0\n"
     ]
    }
   ],
   "source": [
    "#21. Create a program that calculates the income tax based on the user's income and tax brackets.\n",
    "\n",
    "def calculate_income_tax(income):\n",
    "    # Define tax brackets and rates\n",
    "    tax_brackets = [(10000, 0.1), (20000, 0.2), (30000, 0.3), (40000, 0.4), (50000, 0.5)]\n",
    "    \n",
    "    # Initialize total tax\n",
    "    total_tax = 0\n",
    "    \n",
    "    # Iterate through tax brackets\n",
    "    for bracket in tax_brackets:\n",
    "        bracket_income, tax_rate = bracket\n",
    "        \n",
    "        # If income exceeds the current bracket\n",
    "        if income > bracket_income:\n",
    "            # Calculate tax for this bracket and add to total tax\n",
    "            total_tax += (income - bracket_income) * tax_rate\n",
    "            # Update income to the upper limit of this bracket\n",
    "            income = bracket_income\n",
    "    \n",
    "    return total_tax\n",
    "\n",
    "# Get user input for income\n",
    "income = float(input(\"Enter your income: \"))\n",
    "\n",
    "# Calculate income tax\n",
    "income_tax = calculate_income_tax(income)\n",
    "\n",
    "# Print the calculated income tax\n",
    "print(\"Income tax: $\", round(income_tax, 2))\n"
   ]
  },
  {
   "cell_type": "code",
   "execution_count": 50,
   "id": "8355835a-0a17-40be-84d1-ea134a3c5b0c",
   "metadata": {},
   "outputs": [
    {
     "name": "stdout",
     "output_type": "stream",
     "text": [
      "Let's play Rock-Paper-Scissors!\n"
     ]
    },
    {
     "name": "stdin",
     "output_type": "stream",
     "text": [
      "Enter your choice (rock, paper, scissors):  rock\n"
     ]
    },
    {
     "name": "stdout",
     "output_type": "stream",
     "text": [
      "Your choice: rock\n",
      "Computer's choice: paper\n",
      "Computer wins!\n"
     ]
    }
   ],
   "source": [
    "#22. Write a program that simulates a rock-paper-scissors game against the computer.\n",
    "import random\n",
    "\n",
    "def get_computer_choice():\n",
    "    \"\"\"Generate a random choice for the computer.\"\"\"\n",
    "    choices = ['rock', 'paper', 'scissors']\n",
    "    return random.choice(choices)\n",
    "\n",
    "def determine_winner(player_choice, computer_choice):\n",
    "    \"\"\"Determine the winner of the game.\"\"\"\n",
    "    if player_choice == computer_choice:\n",
    "        return \"It's a tie!\"\n",
    "    elif (player_choice == 'rock' and computer_choice == 'scissors') or \\\n",
    "         (player_choice == 'paper' and computer_choice == 'rock') or \\\n",
    "         (player_choice == 'scissors' and computer_choice == 'paper'):\n",
    "        return \"You win!\"\n",
    "    else:\n",
    "        return \"Computer wins!\"\n",
    "\n",
    "def main():\n",
    "    print(\"Let's play Rock-Paper-Scissors!\")\n",
    "    \n",
    "    # Get user input for their choice\n",
    "    player_choice = input(\"Enter your choice (rock, paper, scissors): \").lower()\n",
    "    \n",
    "    # Validate user input\n",
    "    while player_choice not in ['rock', 'paper', 'scissors']:\n",
    "        print(\"Invalid choice! Please enter 'rock', 'paper', or 'scissors'.\")\n",
    "        player_choice = input(\"Enter your choice: \").lower()\n",
    "    \n",
    "    # Get computer's choice\n",
    "    computer_choice = get_computer_choice()\n",
    "    \n",
    "    # Display the choices\n",
    "    print(\"Your choice:\", player_choice)\n",
    "    print(\"Computer's choice:\", computer_choice)\n",
    "    \n",
    "    # Determine the winner\n",
    "    winner = determine_winner(player_choice, computer_choice)\n",
    "    print(winner)\n",
    "\n",
    "if __name__ == \"__main__\":\n",
    "    main()\n"
   ]
  },
  {
   "cell_type": "code",
   "execution_count": 51,
   "id": "82b3bb19-a29d-48f3-8577-099a1282dcd7",
   "metadata": {},
   "outputs": [
    {
     "name": "stdout",
     "output_type": "stream",
     "text": [
      "Random Password Generator\n",
      "------------------------\n"
     ]
    },
    {
     "name": "stdin",
     "output_type": "stream",
     "text": [
      "Enter the length of the password:  9\n",
      "Include uppercase letters? (y/n):  A\n",
      "Include lowercase letters? (y/n):  n\n",
      "Include digits? (y/n):  8\n",
      "Include symbols? (y/n):  @\n"
     ]
    },
    {
     "name": "stdout",
     "output_type": "stream",
     "text": [
      "Error: At least one character type must be selected.\n"
     ]
    }
   ],
   "source": [
    "#23. Develop a program that generates a random password based on user preferences (length, complexity).\n",
    "import random\n",
    "import string\n",
    "\n",
    "def generate_password(length, uppercase=True, lowercase=True, digits=True, symbols=False):\n",
    "    \"\"\"Generate a random password.\"\"\"\n",
    "    characters = ''\n",
    "    if uppercase:\n",
    "        characters += string.ascii_uppercase\n",
    "    if lowercase:\n",
    "        characters += string.ascii_lowercase\n",
    "    if digits:\n",
    "        characters += string.digits\n",
    "    if symbols:\n",
    "        characters += string.punctuation\n",
    "    \n",
    "    if not characters:\n",
    "        raise ValueError(\"At least one character type must be selected.\")\n",
    "    \n",
    "    return ''.join(random.choice(characters) for _ in range(length))\n",
    "\n",
    "def main():\n",
    "    print(\"Random Password Generator\")\n",
    "    print(\"------------------------\")\n",
    "    \n",
    "    try:\n",
    "        length = int(input(\"Enter the length of the password: \"))\n",
    "        uppercase = input(\"Include uppercase letters? (y/n): \").lower() == 'y'\n",
    "        lowercase = input(\"Include lowercase letters? (y/n): \").lower() == 'y'\n",
    "        digits = input(\"Include digits? (y/n): \").lower() == 'y'\n",
    "        symbols = input(\"Include symbols? (y/n): \").lower() == 'y'\n",
    "        \n",
    "        password = generate_password(length, uppercase, lowercase, digits, symbols)\n",
    "        print(\"Generated Password:\", password)\n",
    "    except ValueError as e:\n",
    "        print(\"Error:\", e)\n",
    "\n",
    "if __name__ == \"__main__\":\n",
    "    main()\n"
   ]
  },
  {
   "cell_type": "code",
   "execution_count": 52,
   "id": "12258f96-ca63-43f1-8867-54479f25e351",
   "metadata": {},
   "outputs": [
    {
     "name": "stdout",
     "output_type": "stream",
     "text": [
      "Welcome to the Text Adventure Game!\n",
      "You find yourself standing at a crossroad.\n",
      "\n",
      "What do you want to do?\n",
      "1. Go left\n",
      "2. Go right\n",
      "3. Go straight\n",
      "4. Quit\n"
     ]
    },
    {
     "name": "stdin",
     "output_type": "stream",
     "text": [
      "Enter your choice (1-4):  1\n"
     ]
    },
    {
     "name": "stdout",
     "output_type": "stream",
     "text": [
      "\n",
      "You chose to go left.\n",
      "You encounter a river blocking your path.\n",
      "What do you want to do?\n",
      "1. Swim across the river\n",
      "2. Build a raft\n",
      "3. Go back\n"
     ]
    },
    {
     "name": "stdin",
     "output_type": "stream",
     "text": [
      "Enter your choice (1-3):  1\n"
     ]
    },
    {
     "name": "stdout",
     "output_type": "stream",
     "text": [
      "\n",
      "You swim across the river and reach the other side safely.\n",
      "\n",
      "What do you want to do?\n",
      "1. Go left\n",
      "2. Go right\n",
      "3. Go straight\n",
      "4. Quit\n"
     ]
    },
    {
     "name": "stdin",
     "output_type": "stream",
     "text": [
      "Enter your choice (1-4):  4\n"
     ]
    },
    {
     "name": "stdout",
     "output_type": "stream",
     "text": [
      "Thanks for playing! Goodbye!\n"
     ]
    }
   ],
   "source": [
    "#24. Create a program that implements a simple text-based adventure game with branching scenarios.\n",
    "\n",
    "def start_game():\n",
    "    print(\"Welcome to the Text Adventure Game!\")\n",
    "    print(\"You find yourself standing at a crossroad.\")\n",
    "\n",
    "    while True:\n",
    "        print(\"\\nWhat do you want to do?\")\n",
    "        print(\"1. Go left\")\n",
    "        print(\"2. Go right\")\n",
    "        print(\"3. Go straight\")\n",
    "        print(\"4. Quit\")\n",
    "\n",
    "        choice = input(\"Enter your choice (1-4): \")\n",
    "\n",
    "        if choice == '1':\n",
    "            left_path()\n",
    "        elif choice == '2':\n",
    "            right_path()\n",
    "        elif choice == '3':\n",
    "            straight_path()\n",
    "        elif choice == '4':\n",
    "            print(\"Thanks for playing! Goodbye!\")\n",
    "            break\n",
    "        else:\n",
    "            print(\"Invalid choice. Please enter a number between 1 and 4.\")\n",
    "\n",
    "\n",
    "def left_path():\n",
    "    print(\"\\nYou chose to go left.\")\n",
    "    print(\"You encounter a river blocking your path.\")\n",
    "    print(\"What do you want to do?\")\n",
    "    print(\"1. Swim across the river\")\n",
    "    print(\"2. Build a raft\")\n",
    "    print(\"3. Go back\")\n",
    "\n",
    "    choice = input(\"Enter your choice (1-3): \")\n",
    "\n",
    "    if choice == '1':\n",
    "        print(\"\\nYou swim across the river and reach the other side safely.\")\n",
    "    elif choice == '2':\n",
    "        print(\"\\nYou gather some logs and build a raft.\")\n",
    "        print(\"You successfully cross the river on the raft.\")\n",
    "    elif choice == '3':\n",
    "        print(\"\\nYou go back to the crossroad.\")\n",
    "        start_game()\n",
    "    else:\n",
    "        print(\"Invalid choice. Please enter a number between 1 and 3.\")\n",
    "        left_path()\n",
    "\n",
    "\n",
    "def right_path():\n",
    "    print(\"\\nYou chose to go right.\")\n",
    "    print(\"You encounter a cave entrance.\")\n",
    "    print(\"What do you want to do?\")\n",
    "    print(\"1. Enter the cave\")\n",
    "    print(\"2. Explore the area around the cave\")\n",
    "    print(\"3. Go back\")\n",
    "\n",
    "    choice = input(\"Enter your choice (1-3): \")\n",
    "\n",
    "    if choice == '1':\n",
    "        print(\"\\nYou enter the cave and find a hidden treasure!\")\n",
    "    elif choice == '2':\n",
    "        print(\"\\nYou explore the area around the cave but find nothing of interest.\")\n",
    "    elif choice == '3':\n",
    "        print(\"\\nYou go back to the crossroad.\")\n",
    "        start_game()\n",
    "    else:\n",
    "        print(\"Invalid choice. Please enter a number between 1 and 3.\")\n",
    "        right_path()\n",
    "\n",
    "\n",
    "def straight_path():\n",
    "    print(\"\\nYou chose to go straight.\")\n",
    "    print(\"You see a dense forest ahead.\")\n",
    "    print(\"What do you want to do?\")\n",
    "    print(\"1. Enter the forest\")\n",
    "    print(\"2. Take a detour around the forest\")\n",
    "    print(\"3. Go back\")\n",
    "\n",
    "    choice = input(\"Enter your choice (1-3): \")\n",
    "\n",
    "    if choice == '1':\n",
    "        print(\"\\nYou enter the forest and get lost.\")\n",
    "        print(\"After wandering for a while, you find your way back to the crossroad.\")\n",
    "        start_game()\n",
    "    elif choice == '2':\n",
    "        print(\"\\nYou take a detour around the forest and continue on your journey.\")\n",
    "    elif choice == '3':\n",
    "        print(\"\\nYou go back to the crossroad.\")\n",
    "        start_game()\n",
    "    else:\n",
    "        print(\"Invalid choice. Please enter a number between 1 and 3.\")\n",
    "        straight_path()\n",
    "\n",
    "\n",
    "# Start the game\n",
    "start_game()\n"
   ]
  },
  {
   "cell_type": "code",
   "execution_count": 53,
   "id": "487e9ef1-0751-43f0-8393-a179679d0357",
   "metadata": {},
   "outputs": [
    {
     "name": "stdout",
     "output_type": "stream",
     "text": [
      "The equation is satisfied for all values of x.\n",
      "The equation has no solution.\n",
      "The solution to the equation 3x + 0 = 0 is x = 0.0\n",
      "The solution to the equation 2x + -4 = 0 is x = 2.0\n",
      "The solution to the equation -3x + 9 = 0 is x = 3.0\n"
     ]
    }
   ],
   "source": [
    "#25. Build a program that solves a linear equation for x, considering different cases.\n",
    "def solve_linear_equation(a, b):\n",
    "    if a == 0:\n",
    "        if b == 0:\n",
    "            print(\"The equation is satisfied for all values of x.\")\n",
    "        else:\n",
    "            print(\"The equation has no solution.\")\n",
    "    else:\n",
    "        x = -b / a\n",
    "        print(\"The solution to the equation {}x + {} = 0 is x = {}\".format(a, b, x))\n",
    "\n",
    "\n",
    "# Test cases\n",
    "solve_linear_equation(0, 0)  # Equation: 0x + 0 = 0\n",
    "solve_linear_equation(0, 5)  # Equation: 0x + 5 = 0\n",
    "solve_linear_equation(3, 0)  # Equation: 3x + 0 = 0\n",
    "solve_linear_equation(2, -4)  # Equation: 2x - 4 = 0\n",
    "solve_linear_equation(-3, 9)  # Equation: -3x + 9 = 0\n"
   ]
  },
  {
   "cell_type": "code",
   "execution_count": 54,
   "id": "bd3a1247-c854-48e3-8efc-cfc3cea3a63c",
   "metadata": {},
   "outputs": [
    {
     "name": "stdin",
     "output_type": "stream",
     "text": [
      "What is the capital of France?\n",
      "(a) Paris\n",
      "(b) Rome\n",
      "(c) Madrid\n",
      "\n",
      " (Enter the letter of your choice):  a\n",
      "Who wrote 'Romeo and Juliet'?\n",
      "(a) William Shakespeare\n",
      "(b) Charles Dickens\n",
      "(c) Jane Austen\n",
      "\n",
      " (Enter the letter of your choice):  a\n",
      "What is the chemical symbol for water?\n",
      "(a) H2O\n",
      "(b) CO2\n",
      "(c) O2\n",
      "\n",
      " (Enter the letter of your choice):  a\n"
     ]
    },
    {
     "name": "stdout",
     "output_type": "stream",
     "text": [
      "You got 3 out of 3 questions correct.\n"
     ]
    }
   ],
   "source": [
    "#26. Write a program that simulates a basic quiz game with multiple-choice questions and scoring.\n",
    "class Question:\n",
    "    def __init__(self, prompt, answer):\n",
    "        self.prompt = prompt\n",
    "        self.answer = answer\n",
    "\n",
    "\n",
    "class Quiz:\n",
    "    def __init__(self, questions):\n",
    "        self.questions = questions\n",
    "        self.score = 0\n",
    "\n",
    "    def run_quiz(self):\n",
    "        for question in self.questions:\n",
    "            answer = input(question.prompt + \" (Enter the letter of your choice): \")\n",
    "            if answer.lower() == question.answer.lower():\n",
    "                self.score += 1\n",
    "        print(\"You got\", self.score, \"out of\", len(self.questions), \"questions correct.\")\n",
    "\n",
    "\n",
    "# Sample quiz questions\n",
    "question_prompts = [\n",
    "    \"What is the capital of France?\\n(a) Paris\\n(b) Rome\\n(c) Madrid\\n\\n\",\n",
    "    \"Who wrote 'Romeo and Juliet'?\\n(a) William Shakespeare\\n(b) Charles Dickens\\n(c) Jane Austen\\n\\n\",\n",
    "    \"What is the chemical symbol for water?\\n(a) H2O\\n(b) CO2\\n(c) O2\\n\\n\"\n",
    "]\n",
    "\n",
    "questions = [\n",
    "    Question(question_prompts[0], 'a'),\n",
    "    Question(question_prompts[1], 'a'),\n",
    "    Question(question_prompts[2], 'a')\n",
    "]\n",
    "\n",
    "# Create and run the quiz\n",
    "quiz = Quiz(questions)\n",
    "quiz.run_quiz()\n"
   ]
  },
  {
   "cell_type": "code",
   "execution_count": 55,
   "id": "9051010b-eb73-451f-afd2-e5efbb907e24",
   "metadata": {},
   "outputs": [
    {
     "name": "stdin",
     "output_type": "stream",
     "text": [
      "Enter a year:  7\n"
     ]
    },
    {
     "name": "stdout",
     "output_type": "stream",
     "text": [
      "7 is a prime number.\n"
     ]
    }
   ],
   "source": [
    "#27. Develop a program that determines whether a given year is a prime number or not.\n",
    "def is_prime(year):\n",
    "    if year <= 1:\n",
    "        return False\n",
    "    for i in range(2, int(year**0.5) + 1):\n",
    "        if year % i == 0:\n",
    "            return False\n",
    "    return True\n",
    "\n",
    "year = int(input(\"Enter a year: \"))\n",
    "if is_prime(year):\n",
    "    print(year, \"is a prime number.\")\n",
    "else:\n",
    "    print(year, \"is not a prime number.\")\n"
   ]
  },
  {
   "cell_type": "code",
   "execution_count": 72,
   "id": "60d0658e-ab83-4502-b0a7-e1a77fa07c27",
   "metadata": {},
   "outputs": [
    {
     "name": "stdin",
     "output_type": "stream",
     "text": [
      "Enter a year:  2003\n"
     ]
    },
    {
     "name": "stdout",
     "output_type": "stream",
     "text": [
      "2003 is a prime number.\n"
     ]
    }
   ],
   "source": [
    "#28. Create a program that sorts three numbers in ascending order using conditional statements.\n",
    "def sort_numbers(a, b, c):\n",
    "    # Compare a and b\n",
    "    if a > b:\n",
    "        a, b = b, a\n",
    "    \n",
    "    # Compare b and c\n",
    "    if b > c:\n",
    "        b, c = c, b\n",
    "        \n",
    "        # Check a and b again after swapping c\n",
    "        if a > b:\n",
    "            a, b = b, a\n",
    "            \n",
    "    return a, b, c\n",
    "\n",
    "# Example numbers\n",
    "num1 = float(input(\"Enter the first number: \"))\n",
    "num2 = float(input(\"Enter the second number: \"))\n",
    "num3 = float(input(\"Enter the third number: \"))\n",
    "\n",
    "sorted_nums = sort_numbers(num1, num2, num3)\n",
    "print(\"Numbers in ascending order:\", sorted_nums)\n"
   ]
  },
  {
   "cell_type": "code",
   "execution_count": 73,
   "id": "a67bc721-cbf1-4de6-b7ce-bd286103aebb",
   "metadata": {},
   "outputs": [
    {
     "name": "stdout",
     "output_type": "stream",
     "text": [
      "Root of the quartic equation: 1.0\n"
     ]
    }
   ],
   "source": [
    "#29. Build a program that determines the roots of a quartic equation using numerical methods.\n",
    "# Function to evaluate the quartic equation\n",
    "def quartic_equation(x, a, b, c, d, e):\n",
    "    return a*x**4 + b*x**3 + c*x**2 + d*x + e\n",
    "\n",
    "# Function to calculate the derivative of the quartic equation\n",
    "def derivative_quartic_equation(x, a, b, c, d):\n",
    "    return 4*a*x**3 + 3*b*x**2 + 2*c*x + d\n",
    "\n",
    "# Function to find the root using Newton's method\n",
    "def newton_method_quartic(a, b, c, d, e, x0, tolerance=1e-6, max_iterations=100):\n",
    "    x = x0\n",
    "    iteration = 0\n",
    "\n",
    "    while iteration < max_iterations:\n",
    "        f = quartic_equation(x, a, b, c, d, e)\n",
    "        f_prime = derivative_quartic_equation(x, 4*a, 3*b, 2*c, d)\n",
    "\n",
    "        if abs(f_prime) < tolerance:\n",
    "            break\n",
    "\n",
    "        x = x - f / f_prime\n",
    "        iteration += 1\n",
    "\n",
    "    return x\n",
    "\n",
    "# Example usage\n",
    "a = 1\n",
    "b = -10\n",
    "c = 35\n",
    "d = -50\n",
    "e = 24\n",
    "\n",
    "x0 = 1.0  # Initial guess for the root\n",
    "\n",
    "root = newton_method_quartic(a, b, c, d, e, x0)\n",
    "print(\"Root of the quartic equation:\", root)\n"
   ]
  },
  {
   "cell_type": "code",
   "execution_count": 74,
   "id": "2717f0a5-35d3-4b46-acce-f396163cdd0a",
   "metadata": {},
   "outputs": [
    {
     "name": "stdin",
     "output_type": "stream",
     "text": [
      "Enter your weight in kilograms:  55\n",
      "Enter your height in meters:  185\n"
     ]
    },
    {
     "name": "stdout",
     "output_type": "stream",
     "text": [
      "Your BMI is: 0.0016070124178232286\n",
      "Recommendation: Underweight: You may need to gain some weight.\n"
     ]
    }
   ],
   "source": [
    "#30. Write a program that calculates the BMI (Body Mass Index) and provides health recommendations based on the user's input.\n",
    "def calculate_bmi(weight, height):\n",
    "    return weight / (height ** 2)\n",
    "\n",
    "def get_health_recommendation(bmi):\n",
    "    if bmi < 18.5:\n",
    "        return \"Underweight: You may need to gain some weight.\"\n",
    "    elif 18.5 <= bmi < 24.9:\n",
    "        return \"Normal weight: Your weight is considered healthy.\"\n",
    "    elif 25 <= bmi < 29.9:\n",
    "        return \"Overweight: You may need to lose some weight.\"\n",
    "    else:\n",
    "        return \"Obese: You should consult with a healthcare professional.\"\n",
    "\n",
    "# Example usage\n",
    "weight = float(input(\"Enter your weight in kilograms: \"))\n",
    "height = float(input(\"Enter your height in meters: \"))\n",
    "\n",
    "bmi = calculate_bmi(weight, height)\n",
    "recommendation = get_health_recommendation(bmi)\n",
    "\n",
    "print(\"Your BMI is:\", bmi)\n",
    "print(\"Recommendation:\", recommendation)\n"
   ]
  },
  {
   "cell_type": "raw",
   "id": "88740d80-e71a-440b-8f9d-b3202b0ad0c9",
   "metadata": {},
   "source": [
    "Challenge Level:"
   ]
  },
  {
   "cell_type": "code",
   "execution_count": 75,
   "id": "08cb3418-34f7-49a4-8f29-a82ce431ee38",
   "metadata": {},
   "outputs": [
    {
     "name": "stderr",
     "output_type": "stream",
     "text": [
      "<>:22: SyntaxWarning: invalid escape sequence '\\-'\n",
      "<>:22: SyntaxWarning: invalid escape sequence '\\-'\n",
      "C:\\Users\\Afan\\AppData\\Local\\Temp\\ipykernel_5964\\3818624167.py:22: SyntaxWarning: invalid escape sequence '\\-'\n",
      "  if not re.search(\"[!@#$%^&*()_+=\\-{}[\\]:\\\"|;'<>?,./]\", password):\n"
     ]
    },
    {
     "name": "stdin",
     "output_type": "stream",
     "text": [
      "Enter your password:  zsf@a1234\n"
     ]
    },
    {
     "name": "stdout",
     "output_type": "stream",
     "text": [
      "Password must contain at least one uppercase letter.\n"
     ]
    }
   ],
   "source": [
    "#31. Create a program that validates a password based on complexity rules (length, characters, etc.).\n",
    "import re\n",
    "\n",
    "def validate_password(password):\n",
    "    # Check if password length is at least 8 characters\n",
    "    if len(password) < 8:\n",
    "        return False, \"Password must be at least 8 characters long.\"\n",
    "    \n",
    "    # Check if password contains at least one uppercase letter\n",
    "    if not any(char.isupper() for char in password):\n",
    "        return False, \"Password must contain at least one uppercase letter.\"\n",
    "    \n",
    "    # Check if password contains at least one lowercase letter\n",
    "    if not any(char.islower() for char in password):\n",
    "        return False, \"Password must contain at least one lowercase letter.\"\n",
    "    \n",
    "    # Check if password contains at least one digit\n",
    "    if not any(char.isdigit() for char in password):\n",
    "        return False, \"Password must contain at least one digit.\"\n",
    "    \n",
    "    # Check if password contains at least one special character\n",
    "    if not re.search(\"[!@#$%^&*()_+=\\-{}[\\]:\\\"|;'<>?,./]\", password):\n",
    "        return False, \"Password must contain at least one special character.\"\n",
    "    \n",
    "    return True, \"Password is valid.\"\n",
    "\n",
    "# Example usage\n",
    "password = input(\"Enter your password: \")\n",
    "is_valid, message = validate_password(password)\n",
    "print(message)\n"
   ]
  },
  {
   "cell_type": "code",
   "execution_count": 76,
   "id": "f0485758-1fc5-4879-bb7d-276e67d18636",
   "metadata": {},
   "outputs": [
    {
     "name": "stdout",
     "output_type": "stream",
     "text": [
      "Matrix 1:\n",
      "[1, 2, 3]\n",
      "[4, 5, 6]\n",
      "[7, 8, 9]\n",
      "\n",
      "Matrix 2:\n",
      "[9, 8, 7]\n",
      "[6, 5, 4]\n",
      "[3, 2, 1]\n",
      "\n",
      "Matrix Addition Result:\n",
      "[10, 10, 10]\n",
      "[10, 10, 10]\n",
      "[10, 10, 10]\n",
      "\n",
      "Matrix Subtraction Result:\n",
      "[-8, -6, -4]\n",
      "[-2, 0, 2]\n",
      "[4, 6, 8]\n"
     ]
    }
   ],
   "source": [
    "#32. Develop a program that performs matrix addition and subtraction based on user input.\n",
    "def matrix_addition(matrix1, matrix2):\n",
    "    if len(matrix1) != len(matrix2) or len(matrix1[0]) != len(matrix2[0]):\n",
    "        return None\n",
    "    \n",
    "    result = []\n",
    "    for i in range(len(matrix1)):\n",
    "        row = []\n",
    "        for j in range(len(matrix1[0])):\n",
    "            row.append(matrix1[i][j] + matrix2[i][j])\n",
    "        result.append(row)\n",
    "    \n",
    "    return result\n",
    "\n",
    "def matrix_subtraction(matrix1, matrix2):\n",
    "    if len(matrix1) != len(matrix2) or len(matrix1[0]) != len(matrix2[0]):\n",
    "        return None\n",
    "    \n",
    "    result = []\n",
    "    for i in range(len(matrix1)):\n",
    "        row = []\n",
    "        for j in range(len(matrix1[0])):\n",
    "            row.append(matrix1[i][j] - matrix2[i][j])\n",
    "        result.append(row)\n",
    "    \n",
    "    return result\n",
    "\n",
    "# Example usage\n",
    "matrix1 = [[1, 2, 3], [4, 5, 6], [7, 8, 9]]\n",
    "matrix2 = [[9, 8, 7], [6, 5, 4], [3, 2, 1]]\n",
    "\n",
    "print(\"Matrix 1:\")\n",
    "for row in matrix1:\n",
    "    print(row)\n",
    "\n",
    "print(\"\\nMatrix 2:\")\n",
    "for row in matrix2:\n",
    "    print(row)\n",
    "\n",
    "addition_result = matrix_addition(matrix1, matrix2)\n",
    "if addition_result:\n",
    "    print(\"\\nMatrix Addition Result:\")\n",
    "    for row in addition_result:\n",
    "        print(row)\n",
    "else:\n",
    "    print(\"\\nMatrix Addition not possible.\")\n",
    "\n",
    "subtraction_result = matrix_subtraction(matrix1, matrix2)\n",
    "if subtraction_result:\n",
    "    print(\"\\nMatrix Subtraction Result:\")\n",
    "    for row in subtraction_result:\n",
    "        print(row)\n",
    "else:\n",
    "    print(\"\\nMatrix Subtraction not possible.\")\n"
   ]
  },
  {
   "cell_type": "code",
   "execution_count": 77,
   "id": "f4cb3f52-eb3d-41a1-b0fe-0294eb8bdfd1",
   "metadata": {},
   "outputs": [
    {
     "name": "stdin",
     "output_type": "stream",
     "text": [
      "Enter the first number:  2\n",
      "Enter the second number:  5\n"
     ]
    },
    {
     "name": "stdout",
     "output_type": "stream",
     "text": [
      "The greatest common divisor (GCD) of 2 and 5 is: 1\n"
     ]
    }
   ],
   "source": [
    "#33. Write a program that calculates the greatest common divisor (GCD) of two numbers using the Euclidean algorithm.\n",
    "def gcd(a, b):\n",
    "    while b != 0:\n",
    "        a, b = b, a % b\n",
    "    return a\n",
    "\n",
    "# Example usage\n",
    "num1 = int(input(\"Enter the first number: \"))\n",
    "num2 = int(input(\"Enter the second number: \"))\n",
    "\n",
    "result = gcd(num1, num2)\n",
    "print(\"The greatest common divisor (GCD) of\", num1, \"and\", num2, \"is:\", result)\n"
   ]
  },
  {
   "cell_type": "code",
   "execution_count": 78,
   "id": "3ae84403-bef9-4b9e-ae0f-49873dba74ad",
   "metadata": {},
   "outputs": [
    {
     "name": "stdout",
     "output_type": "stream",
     "text": [
      "[30, 24, 18]\n",
      "[84, 69, 54]\n",
      "[138, 114, 90]\n"
     ]
    }
   ],
   "source": [
    "#34. Build a program that performs matrix multiplication using nested loops and conditional statements.\n",
    "def matrix_multiplication(matrix1, matrix2):\n",
    "    result = [[0] * len(matrix2[0]) for _ in range(len(matrix1))]\n",
    "    for i in range(len(matrix1)):\n",
    "        for j in range(len(matrix2[0])):\n",
    "            for k in range(len(matrix2)):\n",
    "                result[i][j] += matrix1[i][k] * matrix2[k][j]\n",
    "    return result\n",
    "\n",
    "# Example usage\n",
    "matrix1 = [[1, 2, 3],\n",
    "           [4, 5, 6],\n",
    "           [7, 8, 9]]\n",
    "\n",
    "matrix2 = [[9, 8, 7],\n",
    "           [6, 5, 4],\n",
    "           [3, 2, 1]]\n",
    "\n",
    "result = matrix_multiplication(matrix1, matrix2)\n",
    "for row in result:\n",
    "    print(row)\n"
   ]
  },
  {
   "cell_type": "code",
   "execution_count": 79,
   "id": "cf54ff85-1d72-43a5-a0f6-4f5a54c1d02e",
   "metadata": {},
   "outputs": [
    {
     "name": "stdout",
     "output_type": "stream",
     "text": [
      "  |   |  \n",
      "---------\n",
      "  |   |  \n",
      "---------\n",
      "  |   |  \n",
      "---------\n"
     ]
    },
    {
     "name": "stdin",
     "output_type": "stream",
     "text": [
      "Enter row (0, 1, or 2):  0\n",
      "Enter column (0, 1, or 2):  1\n"
     ]
    },
    {
     "name": "stdout",
     "output_type": "stream",
     "text": [
      "  | X |  \n",
      "---------\n",
      "  |   |  \n",
      "---------\n",
      "  |   |  \n",
      "---------\n"
     ]
    },
    {
     "name": "stdin",
     "output_type": "stream",
     "text": [
      "Enter row (0, 1, or 2):  2\n",
      "Enter column (0, 1, or 2):  2\n"
     ]
    },
    {
     "name": "stdout",
     "output_type": "stream",
     "text": [
      "  | X |  \n",
      "---------\n",
      "  |   |  \n",
      "---------\n",
      "  |   | O\n",
      "---------\n"
     ]
    },
    {
     "name": "stdin",
     "output_type": "stream",
     "text": [
      "Enter row (0, 1, or 2):  0\n",
      "Enter column (0, 1, or 2):  0\n"
     ]
    },
    {
     "name": "stdout",
     "output_type": "stream",
     "text": [
      "X | X |  \n",
      "---------\n",
      "  |   |  \n",
      "---------\n",
      "  |   | O\n",
      "---------\n"
     ]
    },
    {
     "name": "stdin",
     "output_type": "stream",
     "text": [
      "Enter row (0, 1, or 2):  1\n",
      "Enter column (0, 1, or 2):  0\n"
     ]
    },
    {
     "name": "stdout",
     "output_type": "stream",
     "text": [
      "X | X |  \n",
      "---------\n",
      "O |   |  \n",
      "---------\n",
      "  |   | O\n",
      "---------\n"
     ]
    },
    {
     "name": "stdin",
     "output_type": "stream",
     "text": [
      "Enter row (0, 1, or 2):  2\n",
      "Enter column (0, 1, or 2):  2\n"
     ]
    },
    {
     "name": "stdout",
     "output_type": "stream",
     "text": [
      "That position is already taken!\n",
      "X | X |  \n",
      "---------\n",
      "O |   |  \n",
      "---------\n",
      "  |   | O\n",
      "---------\n"
     ]
    },
    {
     "name": "stdin",
     "output_type": "stream",
     "text": [
      "Enter row (0, 1, or 2):  2\n",
      "Enter column (0, 1, or 2):  2\n"
     ]
    },
    {
     "name": "stdout",
     "output_type": "stream",
     "text": [
      "That position is already taken!\n",
      "X | X |  \n",
      "---------\n",
      "O |   |  \n",
      "---------\n",
      "  |   | O\n",
      "---------\n"
     ]
    },
    {
     "name": "stdin",
     "output_type": "stream",
     "text": [
      "Enter row (0, 1, or 2):  0\n",
      "Enter column (0, 1, or 2):  2\n"
     ]
    },
    {
     "name": "stdout",
     "output_type": "stream",
     "text": [
      "X | X | X\n",
      "---------\n",
      "O |   |  \n",
      "---------\n",
      "  |   | O\n",
      "---------\n",
      "Player X wins!\n"
     ]
    }
   ],
   "source": [
    "#35. Create a program that simulates a basic text-based tic-tac-toe game against the computer.\n",
    "def print_board(board):\n",
    "    for row in board:\n",
    "        print(\" | \".join(row))\n",
    "        print(\"-\" * 9)\n",
    "\n",
    "def check_winner(board):\n",
    "    for row in board:\n",
    "        if row.count(row[0]) == len(row) and row[0] != \" \":\n",
    "            return row[0]\n",
    "    for col in range(len(board[0])):\n",
    "        if board[0][col] == board[1][col] == board[2][col] and board[0][col] != \" \":\n",
    "            return board[0][col]\n",
    "    if board[0][0] == board[1][1] == board[2][2] and board[0][0] != \" \":\n",
    "        return board[0][0]\n",
    "    if board[0][2] == board[1][1] == board[2][0] and board[0][2] != \" \":\n",
    "        return board[0][2]\n",
    "    return None\n",
    "\n",
    "def is_board_full(board):\n",
    "    for row in board:\n",
    "        if \" \" in row:\n",
    "            return False\n",
    "    return True\n",
    "\n",
    "def main():\n",
    "    board = [[\" \" for _ in range(3)] for _ in range(3)]\n",
    "    current_player = \"X\"\n",
    "\n",
    "    while True:\n",
    "        print_board(board)\n",
    "        row = int(input(\"Enter row (0, 1, or 2): \"))\n",
    "        col = int(input(\"Enter column (0, 1, or 2): \"))\n",
    "\n",
    "        if board[row][col] == \" \":\n",
    "            board[row][col] = current_player\n",
    "        else:\n",
    "            print(\"That position is already taken!\")\n",
    "            continue\n",
    "\n",
    "        winner = check_winner(board)\n",
    "        if winner:\n",
    "            print_board(board)\n",
    "            print(f\"Player {winner} wins!\")\n",
    "            break\n",
    "        elif is_board_full(board):\n",
    "            print_board(board)\n",
    "            print(\"It's a tie!\")\n",
    "            break\n",
    "\n",
    "        current_player = \"O\" if current_player == \"X\" else \"X\"\n",
    "\n",
    "if __name__ == \"__main__\":\n",
    "    main()\n"
   ]
  },
  {
   "cell_type": "code",
   "execution_count": 80,
   "id": "3af31ea2-5b3e-457c-8366-ecc794df88c3",
   "metadata": {},
   "outputs": [
    {
     "name": "stdin",
     "output_type": "stream",
     "text": [
      "Enter the number of Fibonacci numbers to generate:  6\n"
     ]
    },
    {
     "name": "stdout",
     "output_type": "stream",
     "text": [
      "Fibonacci sequence: [0, 1, 1, 2, 3, 5]\n"
     ]
    }
   ],
   "source": [
    "#36. Write a program that generates Fibonacci numbers up to a specified term using iterative methods.\n",
    "def generate_fibonacci(n):\n",
    "    fibonacci = [0, 1]\n",
    "    for i in range(2, n):\n",
    "        fibonacci.append(fibonacci[-1] + fibonacci[-2])\n",
    "    return fibonacci\n",
    "\n",
    "# Example usage\n",
    "n = int(input(\"Enter the number of Fibonacci numbers to generate: \"))\n",
    "fibonacci_sequence = generate_fibonacci(n)\n",
    "print(\"Fibonacci sequence:\", fibonacci_sequence)\n"
   ]
  },
  {
   "cell_type": "code",
   "execution_count": 81,
   "id": "f0158691-21b7-4d89-91f0-df1d02562db8",
   "metadata": {},
   "outputs": [
    {
     "name": "stdin",
     "output_type": "stream",
     "text": [
      "Enter the value of n:  9\n"
     ]
    },
    {
     "name": "stdout",
     "output_type": "stream",
     "text": [
      "The 9th Fibonacci number is: 34\n"
     ]
    }
   ],
   "source": [
    "#37. Develop a program that calculates the nth term of the Fibonacci sequence using memoization.\n",
    "def fibonacci_memo(n, memo={}):\n",
    "    if n in memo:\n",
    "        return memo[n]\n",
    "    if n <= 1:\n",
    "        return n\n",
    "    memo[n] = fibonacci_memo(n - 1, memo) + fibonacci_memo(n - 2, memo)\n",
    "    return memo[n]\n",
    "\n",
    "# Example usage\n",
    "n = int(input(\"Enter the value of n: \"))\n",
    "nth_fibonacci = fibonacci_memo(n)\n",
    "print(f\"The {n}th Fibonacci number is: {nth_fibonacci}\")\n"
   ]
  },
  {
   "cell_type": "code",
   "execution_count": 83,
   "id": "a4f519cb-5769-42c4-9e21-ea147990b592",
   "metadata": {},
   "outputs": [
    {
     "name": "stdin",
     "output_type": "stream",
     "text": [
      "Enter the month (1-12):  4\n",
      "Enter the year:  2024\n"
     ]
    },
    {
     "name": "stdout",
     "output_type": "stream",
     "text": [
      "           4/2024\n",
      "Sun Mon Tue Wed Thu Fri Sat\n",
      "----------------------------\n",
      "      1   2   3   4   5   6 \n",
      "  7   8   9  10  11  12  13 \n",
      " 14  15  16  17  18  19  20 \n",
      " 21  22  23  24  25  26  27 \n",
      " 28  29  30 \n"
     ]
    }
   ],
   "source": [
    "#38. Create a program that generates a calendar for a given month and year using conditional statements.\n",
    "def generate_calendar(month, year):\n",
    "    # Determine the number of days in the month\n",
    "    if month in {1, 3, 5, 7, 8, 10, 12}:\n",
    "        num_days = 31\n",
    "    elif month in {4, 6, 9, 11}:\n",
    "        num_days = 30\n",
    "    else:\n",
    "        # Check for leap year\n",
    "        if (year % 4 == 0 and year % 100 != 0) or (year % 400 == 0):\n",
    "            num_days = 29\n",
    "        else:\n",
    "            num_days = 28\n",
    "\n",
    "    # Determine the day of the week for the first day of the month\n",
    "    # Using Zeller's Congruence algorithm\n",
    "    k = 1\n",
    "    m = (month + 9) % 12 + 1\n",
    "    D = year % 100\n",
    "    C = year // 100\n",
    "    if month in {1, 2}:\n",
    "        Y = (year - 1) % 100\n",
    "    else:\n",
    "        Y = year % 100\n",
    "    f = k + ((13 * m - 1) // 5) + Y + (Y // 4) + (C // 4) - 2 * C\n",
    "    day_of_week = (f % 7 + 7) % 7\n",
    "\n",
    "    # Print the calendar\n",
    "    print(f\"{' ' * 10} {month}/{year}\")\n",
    "    print(\"Sun Mon Tue Wed Thu Fri Sat\")\n",
    "    print(\"----\" * 7)\n",
    "    print(\"    \" * day_of_week, end=\"\")\n",
    "    for day in range(1, num_days + 1):\n",
    "        print(f\"{day:3}\", end=\" \")\n",
    "        if (day + day_of_week) % 7 == 0:\n",
    "            print()\n",
    "    print()\n",
    "\n",
    "# Example usage\n",
    "month = int(input(\"Enter the month (1-12): \"))\n",
    "year = int(input(\"Enter the year: \"))\n",
    "generate_calendar(month, year)\n"
   ]
  },
  {
   "cell_type": "code",
   "execution_count": 84,
   "id": "f6e96f56-8cd5-4292-a9b6-bdeab42578bc",
   "metadata": {},
   "outputs": [
    {
     "name": "stdout",
     "output_type": "stream",
     "text": [
      "Welcome to Blackjack!\n"
     ]
    },
    {
     "name": "stdin",
     "output_type": "stream",
     "text": [
      "Do you want to hit or stand? (h/s):  h\n"
     ]
    },
    {
     "name": "stdout",
     "output_type": "stream",
     "text": [
      "You drew a card with value 8\n"
     ]
    },
    {
     "name": "stdin",
     "output_type": "stream",
     "text": [
      "Do you want to hit or stand? (h/s):  s\n"
     ]
    },
    {
     "name": "stdout",
     "output_type": "stream",
     "text": [
      "\n",
      "Dealer's score: 17\n",
      "You lose.\n"
     ]
    }
   ],
   "source": [
    "#39. Build a program that simulates a basic text-based blackjack game against the computer.\n",
    "import random\n",
    "\n",
    "def draw_card():\n",
    "    return random.randint(1, 10)\n",
    "\n",
    "def play_blackjack():\n",
    "    player_score = 0\n",
    "    while True:\n",
    "        action = input(\"Do you want to hit or stand? (h/s): \").lower()\n",
    "        if action == 'h':\n",
    "            card = draw_card()\n",
    "            print(f\"You drew a card with value {card}\")\n",
    "            player_score += card\n",
    "            if player_score > 21:\n",
    "                print(\"Bust! You lose.\")\n",
    "                break\n",
    "            elif player_score == 21:\n",
    "                print(\"Blackjack! You win!\")\n",
    "                break\n",
    "        elif action == 's':\n",
    "            break\n",
    "        else:\n",
    "            print(\"Invalid input. Please enter 'h' or 's'.\")\n",
    "    \n",
    "    if player_score <= 21:\n",
    "        dealer_score = random.randint(15, 21)\n",
    "        print(f\"\\nDealer's score: {dealer_score}\")\n",
    "        if dealer_score > 21 or dealer_score < player_score:\n",
    "            print(\"You win!\")\n",
    "        elif dealer_score > player_score:\n",
    "            print(\"You lose.\")\n",
    "        else:\n",
    "            print(\"It's a tie!\")\n",
    "\n",
    "# Example usage\n",
    "print(\"Welcome to Blackjack!\")\n",
    "play_blackjack()\n"
   ]
  },
  {
   "cell_type": "code",
   "execution_count": 85,
   "id": "1cfa69de-d361-494e-bb46-7f865c5afa85",
   "metadata": {},
   "outputs": [
    {
     "name": "stdin",
     "output_type": "stream",
     "text": [
      "Enter a number:  6\n"
     ]
    },
    {
     "name": "stdout",
     "output_type": "stream",
     "text": [
      "Prime factors of 6: [2, 3]\n"
     ]
    }
   ],
   "source": [
    "#40. Write a program that generates the prime factors of a given number using trial division.\n",
    "def prime_factors(n):\n",
    "    factors = []\n",
    "    divisor = 2\n",
    "    while n > 1:\n",
    "        if n % divisor == 0:\n",
    "            factors.append(divisor)\n",
    "            n //= divisor\n",
    "        else:\n",
    "            divisor += 1\n",
    "    return factors\n",
    "\n",
    "# Example usage\n",
    "number = int(input(\"Enter a number: \"))\n",
    "factors = prime_factors(number)\n",
    "print(f\"Prime factors of {number}: {factors}\")\n"
   ]
  }
 ],
 "metadata": {
  "kernelspec": {
   "display_name": "Python 3 (ipykernel)",
   "language": "python",
   "name": "python3"
  },
  "language_info": {
   "codemirror_mode": {
    "name": "ipython",
    "version": 3
   },
   "file_extension": ".py",
   "mimetype": "text/x-python",
   "name": "python",
   "nbconvert_exporter": "python",
   "pygments_lexer": "ipython3",
   "version": "3.12.2"
  }
 },
 "nbformat": 4,
 "nbformat_minor": 5
}
